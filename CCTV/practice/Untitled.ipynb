{
 "cells": [
  {
   "cell_type": "markdown",
   "id": "9d182c40",
   "metadata": {},
   "source": [
    "# 연습문제 1-1)"
   ]
  },
  {
   "cell_type": "code",
   "execution_count": 26,
   "id": "c8b8c302",
   "metadata": {},
   "outputs": [],
   "source": [
    "file_type = 'json'\n",
    "service_name = 'BukChonInOutPeopleInfo'\n",
    "\n",
    "url = \"http://openapi.seoul.go.kr:8088/sample/{}/{}/1/5/\".format(file_type, service_name)"
   ]
  },
  {
   "cell_type": "code",
   "execution_count": 27,
   "id": "cb3d6f2f",
   "metadata": {},
   "outputs": [
    {
     "data": {
      "text/plain": [
       "'http://openapi.seoul.go.kr:8088/sample/json/BukChonInOutPeopleInfo/1/5/'"
      ]
     },
     "execution_count": 27,
     "metadata": {},
     "output_type": "execute_result"
    }
   ],
   "source": [
    "url"
   ]
  },
  {
   "cell_type": "markdown",
   "id": "6f24430e",
   "metadata": {},
   "source": [
    "# 연습문제 1-2)"
   ]
  },
  {
   "cell_type": "code",
   "execution_count": 44,
   "id": "a281b707",
   "metadata": {},
   "outputs": [],
   "source": [
    "import os\n",
    "\n",
    "url = os.path.join(\"http://openapi.seoul.go.kr:8088/sample/\", 'json/', 'BukChonInOutPeopleInfo/','1/5/')"
   ]
  },
  {
   "cell_type": "code",
   "execution_count": 45,
   "id": "e13701d8",
   "metadata": {},
   "outputs": [
    {
     "data": {
      "text/plain": [
       "'http://openapi.seoul.go.kr:8088/sample/json/BukChonInOutPeopleInfo/1/5/'"
      ]
     },
     "execution_count": 45,
     "metadata": {},
     "output_type": "execute_result"
    }
   ],
   "source": [
    "url"
   ]
  },
  {
   "cell_type": "markdown",
   "id": "e9ac4129",
   "metadata": {},
   "source": [
    "# 연습문제 1-3)"
   ]
  },
  {
   "cell_type": "code",
   "execution_count": 46,
   "id": "3483f3ca",
   "metadata": {},
   "outputs": [
    {
     "name": "stdout",
     "output_type": "stream",
     "text": [
      "http://openapi.seoul.go.kr:8088/sample/json/BukChonInOutPeopleInfo/1/5/\n"
     ]
    }
   ],
   "source": [
    "{\"BukChonInOutPeopleInfo\":{\"list_total_count\":29333,\"RESULT\":{\"CODE\":\"INFO-000\",\"MESSAGE\":\"정상 처리되었습니다\"},\"row\":[{\"DEVICEID\":2.0,\"DEVICENAME\":\"계동길 69\",\"DESCRIPTION\":\"계동교회 앞\",\"STARTTIME\":\"2022-11-30 21:10:41\",\"ENDTIME\":\"2022-11-30 21:20:41\",\"INCOUNT\":9386.0,\"OUTCOUNT\":13749.0},{\"DEVICEID\":1.0,\"DEVICENAME\":\"율곡로3길 50\",\"DESCRIPTION\":\"덕성여고 앞\",\"STARTTIME\":\"2022-11-30 21:10:41\",\"ENDTIME\":\"2022-11-30 21:20:41\",\"INCOUNT\":7903.0,\"OUTCOUNT\":5279.0},{\"DEVICEID\":2.0,\"DEVICENAME\":\"계동길 69\",\"DESCRIPTION\":\"계동교회 앞\",\"STARTTIME\":\"2022-11-30 21:20:41\",\"ENDTIME\":\"2022-11-30 21:30:41\",\"INCOUNT\":9398.0,\"OUTCOUNT\":13776.0},{\"DEVICEID\":1.0,\"DEVICENAME\":\"율곡로3길 50\",\"DESCRIPTION\":\"덕성여고 앞\",\"STARTTIME\":\"2022-11-30 21:20:41\",\"ENDTIME\":\"2022-11-30 21:30:41\",\"INCOUNT\":7927.0,\"OUTCOUNT\":5312.0},{\"DEVICEID\":2.0,\"DEVICENAME\":\"계동길 69\",\"DESCRIPTION\":\"계동교회 앞\",\"STARTTIME\":\"2022-11-30 21:30:41\",\"ENDTIME\":\"2022-11-30 21:40:41\",\"INCOUNT\":9414.0,\"OUTCOUNT\":13800.0}]}}"
   ]
  },
  {
   "cell_type": "markdown",
   "id": "f0b0c84b",
   "metadata": {},
   "source": [
    "# 연습문제 1-4)"
   ]
  },
  {
   "cell_type": "code",
   "execution_count": 47,
   "id": "be402451",
   "metadata": {},
   "outputs": [],
   "source": [
    "data = '{\"BukChonInOutPeopleInfo\":{\"list_total_count\":29333,\"RESULT\":{\"CODE\":\"INFO-000\",\"MESSAGE\":\"정상 처리되었습니다\"},\"row\":[{\"DEVICEID\":2.0,\"DEVICENAME\":\"계동길 69\",\"DESCRIPTION\":\"계동교회 앞\",\"STARTTIME\":\"2022-11-30 21:10:41\",\"ENDTIME\":\"2022-11-30 21:20:41\",\"INCOUNT\":9386.0,\"OUTCOUNT\":13749.0},{\"DEVICEID\":1.0,\"DEVICENAME\":\"율곡로3길 50\",\"DESCRIPTION\":\"덕성여고 앞\",\"STARTTIME\":\"2022-11-30 21:10:41\",\"ENDTIME\":\"2022-11-30 21:20:41\",\"INCOUNT\":7903.0,\"OUTCOUNT\":5279.0},{\"DEVICEID\":2.0,\"DEVICENAME\":\"계동길 69\",\"DESCRIPTION\":\"계동교회 앞\",\"STARTTIME\":\"2022-11-30 21:20:41\",\"ENDTIME\":\"2022-11-30 21:30:41\",\"INCOUNT\":9398.0,\"OUTCOUNT\":13776.0},{\"DEVICEID\":1.0,\"DEVICENAME\":\"율곡로3길 50\",\"DESCRIPTION\":\"덕성여고 앞\",\"STARTTIME\":\"2022-11-30 21:20:41\",\"ENDTIME\":\"2022-11-30 21:30:41\",\"INCOUNT\":7927.0,\"OUTCOUNT\":5312.0},{\"DEVICEID\":2.0,\"DEVICENAME\":\"계동길 69\",\"DESCRIPTION\":\"계동교회 앞\",\"STARTTIME\":\"2022-11-30 21:30:41\",\"ENDTIME\":\"2022-11-30 21:40:41\",\"INCOUNT\":9414.0,\"OUTCOUNT\":13800.0}]}}'"
   ]
  },
  {
   "cell_type": "code",
   "execution_count": 59,
   "id": "a34db949",
   "metadata": {},
   "outputs": [],
   "source": [
    "data1 = {\"BukChonInOutPeopleInfo\":{\"list_total_count\":29333,\"RESULT\":{\"CODE\":\"INFO-000\",\"MESSAGE\":\"정상 처리되었습니다\"},\"row\":[{\"DEVICEID\":2.0,\"DEVICENAME\":\"계동길 69\",\"DESCRIPTION\":\"계동교회 앞\",\"STARTTIME\":\"2022-11-30 21:10:41\",\"ENDTIME\":\"2022-11-30 21:20:41\",\"INCOUNT\":9386.0,\"OUTCOUNT\":13749.0},{\"DEVICEID\":1.0,\"DEVICENAME\":\"율곡로3길 50\",\"DESCRIPTION\":\"덕성여고 앞\",\"STARTTIME\":\"2022-11-30 21:10:41\",\"ENDTIME\":\"2022-11-30 21:20:41\",\"INCOUNT\":7903.0,\"OUTCOUNT\":5279.0},{\"DEVICEID\":2.0,\"DEVICENAME\":\"계동길 69\",\"DESCRIPTION\":\"계동교회 앞\",\"STARTTIME\":\"2022-11-30 21:20:41\",\"ENDTIME\":\"2022-11-30 21:30:41\",\"INCOUNT\":9398.0,\"OUTCOUNT\":13776.0},{\"DEVICEID\":1.0,\"DEVICENAME\":\"율곡로3길 50\",\"DESCRIPTION\":\"덕성여고 앞\",\"STARTTIME\":\"2022-11-30 21:20:41\",\"ENDTIME\":\"2022-11-30 21:30:41\",\"INCOUNT\":7927.0,\"OUTCOUNT\":5312.0},{\"DEVICEID\":2.0,\"DEVICENAME\":\"계동길 69\",\"DESCRIPTION\":\"계동교회 앞\",\"STARTTIME\":\"2022-11-30 21:30:41\",\"ENDTIME\":\"2022-11-30 21:40:41\",\"INCOUNT\":9414.0,\"OUTCOUNT\":13800.0}]}}"
   ]
  },
  {
   "cell_type": "code",
   "execution_count": 48,
   "id": "445077a9",
   "metadata": {},
   "outputs": [
    {
     "data": {
      "text/plain": [
       "'{\"BukChonInOutPeopleInfo\":{\"list_total_count\":29333,\"RESULT\":{\"CODE\":\"INFO-000\",\"MESSAGE\":\"정상 처리되었습니다\"},\"row\":[{\"DEVICEID\":2.0,\"DEVICENAME\":\"계동길 69\",\"DESCRIPTION\":\"계동교회 앞\",\"STARTTIME\":\"2022-11-30 21:10:41\",\"ENDTIME\":\"2022-11-30 21:20:41\",\"INCOUNT\":9386.0,\"OUTCOUNT\":13749.0},{\"DEVICEID\":1.0,\"DEVICENAME\":\"율곡로3길 50\",\"DESCRIPTION\":\"덕성여고 앞\",\"STARTTIME\":\"2022-11-30 21:10:41\",\"ENDTIME\":\"2022-11-30 21:20:41\",\"INCOUNT\":7903.0,\"OUTCOUNT\":5279.0},{\"DEVICEID\":2.0,\"DEVICENAME\":\"계동길 69\",\"DESCRIPTION\":\"계동교회 앞\",\"STARTTIME\":\"2022-11-30 21:20:41\",\"ENDTIME\":\"2022-11-30 21:30:41\",\"INCOUNT\":9398.0,\"OUTCOUNT\":13776.0},{\"DEVICEID\":1.0,\"DEVICENAME\":\"율곡로3길 50\",\"DESCRIPTION\":\"덕성여고 앞\",\"STARTTIME\":\"2022-11-30 21:20:41\",\"ENDTIME\":\"2022-11-30 21:30:41\",\"INCOUNT\":7927.0,\"OUTCOUNT\":5312.0},{\"DEVICEID\":2.0,\"DEVICENAME\":\"계동길 69\",\"DESCRIPTION\":\"계동교회 앞\",\"STARTTIME\":\"2022-11-30 21:30:41\",\"ENDTIME\":\"2022-11-30 21:40:41\",\"INCOUNT\":9414.0,\"OUTCOUNT\":13800.0}]}}'"
      ]
     },
     "execution_count": 48,
     "metadata": {},
     "output_type": "execute_result"
    }
   ],
   "source": [
    "data"
   ]
  },
  {
   "cell_type": "markdown",
   "id": "51ed1dfd",
   "metadata": {},
   "source": [
    "# 연습문제 2-1)"
   ]
  },
  {
   "cell_type": "code",
   "execution_count": 81,
   "id": "f0650e29",
   "metadata": {},
   "outputs": [],
   "source": [
    "import json\n",
    "\n",
    "dict_data = json.loads(data)\n"
   ]
  },
  {
   "cell_type": "code",
   "execution_count": 82,
   "id": "fb68843e",
   "metadata": {},
   "outputs": [
    {
     "data": {
      "text/plain": [
       "{'BukChonInOutPeopleInfo': {'list_total_count': 29333,\n",
       "  'RESULT': {'CODE': 'INFO-000', 'MESSAGE': '정상 처리되었습니다'},\n",
       "  'row': [{'DEVICEID': 2.0,\n",
       "    'DEVICENAME': '계동길 69',\n",
       "    'DESCRIPTION': '계동교회 앞',\n",
       "    'STARTTIME': '2022-11-30 21:10:41',\n",
       "    'ENDTIME': '2022-11-30 21:20:41',\n",
       "    'INCOUNT': 9386.0,\n",
       "    'OUTCOUNT': 13749.0},\n",
       "   {'DEVICEID': 1.0,\n",
       "    'DEVICENAME': '율곡로3길 50',\n",
       "    'DESCRIPTION': '덕성여고 앞',\n",
       "    'STARTTIME': '2022-11-30 21:10:41',\n",
       "    'ENDTIME': '2022-11-30 21:20:41',\n",
       "    'INCOUNT': 7903.0,\n",
       "    'OUTCOUNT': 5279.0},\n",
       "   {'DEVICEID': 2.0,\n",
       "    'DEVICENAME': '계동길 69',\n",
       "    'DESCRIPTION': '계동교회 앞',\n",
       "    'STARTTIME': '2022-11-30 21:20:41',\n",
       "    'ENDTIME': '2022-11-30 21:30:41',\n",
       "    'INCOUNT': 9398.0,\n",
       "    'OUTCOUNT': 13776.0},\n",
       "   {'DEVICEID': 1.0,\n",
       "    'DEVICENAME': '율곡로3길 50',\n",
       "    'DESCRIPTION': '덕성여고 앞',\n",
       "    'STARTTIME': '2022-11-30 21:20:41',\n",
       "    'ENDTIME': '2022-11-30 21:30:41',\n",
       "    'INCOUNT': 7927.0,\n",
       "    'OUTCOUNT': 5312.0},\n",
       "   {'DEVICEID': 2.0,\n",
       "    'DEVICENAME': '계동길 69',\n",
       "    'DESCRIPTION': '계동교회 앞',\n",
       "    'STARTTIME': '2022-11-30 21:30:41',\n",
       "    'ENDTIME': '2022-11-30 21:40:41',\n",
       "    'INCOUNT': 9414.0,\n",
       "    'OUTCOUNT': 13800.0}]}}"
      ]
     },
     "execution_count": 82,
     "metadata": {},
     "output_type": "execute_result"
    }
   ],
   "source": [
    "dict_data"
   ]
  },
  {
   "cell_type": "code",
   "execution_count": 83,
   "id": "1f122f99",
   "metadata": {},
   "outputs": [
    {
     "data": {
      "text/plain": [
       "dict"
      ]
     },
     "execution_count": 83,
     "metadata": {},
     "output_type": "execute_result"
    }
   ],
   "source": [
    "type(dict_data)"
   ]
  },
  {
   "cell_type": "code",
   "execution_count": 169,
   "id": "e31c560d",
   "metadata": {},
   "outputs": [
    {
     "data": {
      "text/html": [
       "<div>\n",
       "<style scoped>\n",
       "    .dataframe tbody tr th:only-of-type {\n",
       "        vertical-align: middle;\n",
       "    }\n",
       "\n",
       "    .dataframe tbody tr th {\n",
       "        vertical-align: top;\n",
       "    }\n",
       "\n",
       "    .dataframe thead th {\n",
       "        text-align: right;\n",
       "    }\n",
       "</style>\n",
       "<table border=\"1\" class=\"dataframe\">\n",
       "  <thead>\n",
       "    <tr style=\"text-align: right;\">\n",
       "      <th></th>\n",
       "    </tr>\n",
       "  </thead>\n",
       "  <tbody>\n",
       "  </tbody>\n",
       "</table>\n",
       "</div>"
      ],
      "text/plain": [
       "Empty DataFrame\n",
       "Columns: []\n",
       "Index: []"
      ]
     },
     "execution_count": 169,
     "metadata": {},
     "output_type": "execute_result"
    }
   ],
   "source": [
    "result"
   ]
  },
  {
   "cell_type": "markdown",
   "id": "3383de2b",
   "metadata": {},
   "source": [
    "# 연습문제 3-1)"
   ]
  },
  {
   "cell_type": "code",
   "execution_count": 2,
   "id": "bf43b632",
   "metadata": {
    "scrolled": true
   },
   "outputs": [],
   "source": [
    "import pandas as pd\n",
    "import json\n",
    "from urllib.request import urlopen\n",
    "import requests\n",
    "\n",
    "df = pd.DataFrame()\n",
    "\n",
    "for i in range(1,30000,1000):\n",
    "    url = 'http://openapi.seoul.go.kr:8088/72734e5947776f6f35336c4d464a61/json/BukChonInOutPeopleInfo/{}/{}/'.format(i,i+999)\n",
    "    response = requests.get(url)\n",
    "    dict_data = json.loads(response.text)\n",
    "    specialdf = pd.DataFrame(dict_data['BukChonInOutPeopleInfo']['row'])\n",
    "    df = pd.concat([df, specialdf])\n",
    "df['MONTH'] = df['ENDTIME'].str.split('-').str[1]"
   ]
  },
  {
   "cell_type": "code",
   "execution_count": 204,
   "id": "56def132",
   "metadata": {},
   "outputs": [
    {
     "data": {
      "text/html": [
       "<div>\n",
       "<style scoped>\n",
       "    .dataframe tbody tr th:only-of-type {\n",
       "        vertical-align: middle;\n",
       "    }\n",
       "\n",
       "    .dataframe tbody tr th {\n",
       "        vertical-align: top;\n",
       "    }\n",
       "\n",
       "    .dataframe thead th {\n",
       "        text-align: right;\n",
       "    }\n",
       "</style>\n",
       "<table border=\"1\" class=\"dataframe\">\n",
       "  <thead>\n",
       "    <tr style=\"text-align: right;\">\n",
       "      <th></th>\n",
       "      <th>DEVICEID</th>\n",
       "      <th>DEVICENAME</th>\n",
       "      <th>DESCRIPTION</th>\n",
       "      <th>STARTTIME</th>\n",
       "      <th>ENDTIME</th>\n",
       "      <th>INCOUNT</th>\n",
       "      <th>OUTCOUNT</th>\n",
       "    </tr>\n",
       "  </thead>\n",
       "  <tbody>\n",
       "    <tr>\n",
       "      <th>0</th>\n",
       "      <td>2.0</td>\n",
       "      <td>계동길 69</td>\n",
       "      <td>계동교회 앞</td>\n",
       "      <td>2022-11-30 21:10:41</td>\n",
       "      <td>2022-11-30 21:20:41</td>\n",
       "      <td>9386.0</td>\n",
       "      <td>13749.0</td>\n",
       "    </tr>\n",
       "    <tr>\n",
       "      <th>1</th>\n",
       "      <td>1.0</td>\n",
       "      <td>율곡로3길 50</td>\n",
       "      <td>덕성여고 앞</td>\n",
       "      <td>2022-11-30 21:10:41</td>\n",
       "      <td>2022-11-30 21:20:41</td>\n",
       "      <td>7903.0</td>\n",
       "      <td>5279.0</td>\n",
       "    </tr>\n",
       "    <tr>\n",
       "      <th>2</th>\n",
       "      <td>2.0</td>\n",
       "      <td>계동길 69</td>\n",
       "      <td>계동교회 앞</td>\n",
       "      <td>2022-11-30 21:20:41</td>\n",
       "      <td>2022-11-30 21:30:41</td>\n",
       "      <td>9398.0</td>\n",
       "      <td>13776.0</td>\n",
       "    </tr>\n",
       "    <tr>\n",
       "      <th>3</th>\n",
       "      <td>1.0</td>\n",
       "      <td>율곡로3길 50</td>\n",
       "      <td>덕성여고 앞</td>\n",
       "      <td>2022-11-30 21:20:41</td>\n",
       "      <td>2022-11-30 21:30:41</td>\n",
       "      <td>7927.0</td>\n",
       "      <td>5312.0</td>\n",
       "    </tr>\n",
       "    <tr>\n",
       "      <th>4</th>\n",
       "      <td>2.0</td>\n",
       "      <td>계동길 69</td>\n",
       "      <td>계동교회 앞</td>\n",
       "      <td>2022-11-30 21:30:41</td>\n",
       "      <td>2022-11-30 21:40:41</td>\n",
       "      <td>9414.0</td>\n",
       "      <td>13800.0</td>\n",
       "    </tr>\n",
       "    <tr>\n",
       "      <th>...</th>\n",
       "      <td>...</td>\n",
       "      <td>...</td>\n",
       "      <td>...</td>\n",
       "      <td>...</td>\n",
       "      <td>...</td>\n",
       "      <td>...</td>\n",
       "      <td>...</td>\n",
       "    </tr>\n",
       "    <tr>\n",
       "      <th>90</th>\n",
       "      <td>1.0</td>\n",
       "      <td>율곡로3길 50</td>\n",
       "      <td>덕성여고 앞</td>\n",
       "      <td>2023-01-27 00:40:41</td>\n",
       "      <td>2023-01-27 00:50:41</td>\n",
       "      <td>39.0</td>\n",
       "      <td>9.0</td>\n",
       "    </tr>\n",
       "    <tr>\n",
       "      <th>91</th>\n",
       "      <td>2.0</td>\n",
       "      <td>계동길 69</td>\n",
       "      <td>계동교회 앞</td>\n",
       "      <td>2023-01-27 00:50:41</td>\n",
       "      <td>2023-01-27 01:00:41</td>\n",
       "      <td>64.0</td>\n",
       "      <td>55.0</td>\n",
       "    </tr>\n",
       "    <tr>\n",
       "      <th>92</th>\n",
       "      <td>1.0</td>\n",
       "      <td>율곡로3길 50</td>\n",
       "      <td>덕성여고 앞</td>\n",
       "      <td>2023-01-27 00:50:41</td>\n",
       "      <td>2023-01-27 01:00:41</td>\n",
       "      <td>43.0</td>\n",
       "      <td>9.0</td>\n",
       "    </tr>\n",
       "    <tr>\n",
       "      <th>93</th>\n",
       "      <td>2.0</td>\n",
       "      <td>계동길 69</td>\n",
       "      <td>계동교회 앞</td>\n",
       "      <td>2023-01-27 01:00:41</td>\n",
       "      <td>2023-01-27 01:10:41</td>\n",
       "      <td>72.0</td>\n",
       "      <td>78.0</td>\n",
       "    </tr>\n",
       "    <tr>\n",
       "      <th>94</th>\n",
       "      <td>1.0</td>\n",
       "      <td>율곡로3길 50</td>\n",
       "      <td>덕성여고 앞</td>\n",
       "      <td>2023-01-27 01:00:41</td>\n",
       "      <td>2023-01-27 01:10:41</td>\n",
       "      <td>46.0</td>\n",
       "      <td>9.0</td>\n",
       "    </tr>\n",
       "  </tbody>\n",
       "</table>\n",
       "<p>29095 rows × 7 columns</p>\n",
       "</div>"
      ],
      "text/plain": [
       "    DEVICEID DEVICENAME DESCRIPTION            STARTTIME              ENDTIME  \\\n",
       "0        2.0     계동길 69      계동교회 앞  2022-11-30 21:10:41  2022-11-30 21:20:41   \n",
       "1        1.0   율곡로3길 50      덕성여고 앞  2022-11-30 21:10:41  2022-11-30 21:20:41   \n",
       "2        2.0     계동길 69      계동교회 앞  2022-11-30 21:20:41  2022-11-30 21:30:41   \n",
       "3        1.0   율곡로3길 50      덕성여고 앞  2022-11-30 21:20:41  2022-11-30 21:30:41   \n",
       "4        2.0     계동길 69      계동교회 앞  2022-11-30 21:30:41  2022-11-30 21:40:41   \n",
       "..       ...        ...         ...                  ...                  ...   \n",
       "90       1.0   율곡로3길 50      덕성여고 앞  2023-01-27 00:40:41  2023-01-27 00:50:41   \n",
       "91       2.0     계동길 69      계동교회 앞  2023-01-27 00:50:41  2023-01-27 01:00:41   \n",
       "92       1.0   율곡로3길 50      덕성여고 앞  2023-01-27 00:50:41  2023-01-27 01:00:41   \n",
       "93       2.0     계동길 69      계동교회 앞  2023-01-27 01:00:41  2023-01-27 01:10:41   \n",
       "94       1.0   율곡로3길 50      덕성여고 앞  2023-01-27 01:00:41  2023-01-27 01:10:41   \n",
       "\n",
       "    INCOUNT  OUTCOUNT  \n",
       "0    9386.0   13749.0  \n",
       "1    7903.0    5279.0  \n",
       "2    9398.0   13776.0  \n",
       "3    7927.0    5312.0  \n",
       "4    9414.0   13800.0  \n",
       "..      ...       ...  \n",
       "90     39.0       9.0  \n",
       "91     64.0      55.0  \n",
       "92     43.0       9.0  \n",
       "93     72.0      78.0  \n",
       "94     46.0       9.0  \n",
       "\n",
       "[29095 rows x 7 columns]"
      ]
     },
     "execution_count": 204,
     "metadata": {},
     "output_type": "execute_result"
    }
   ],
   "source": [
    "df"
   ]
  },
  {
   "cell_type": "code",
   "execution_count": 5,
   "id": "65041e5c",
   "metadata": {},
   "outputs": [],
   "source": [
    "df['MONTH'] = df['ENDTIME'].str.split('-').str[1]"
   ]
  },
  {
   "cell_type": "code",
   "execution_count": 6,
   "id": "f4d16cd2",
   "metadata": {
    "scrolled": true
   },
   "outputs": [
    {
     "data": {
      "text/html": [
       "<div>\n",
       "<style scoped>\n",
       "    .dataframe tbody tr th:only-of-type {\n",
       "        vertical-align: middle;\n",
       "    }\n",
       "\n",
       "    .dataframe tbody tr th {\n",
       "        vertical-align: top;\n",
       "    }\n",
       "\n",
       "    .dataframe thead th {\n",
       "        text-align: right;\n",
       "    }\n",
       "</style>\n",
       "<table border=\"1\" class=\"dataframe\">\n",
       "  <thead>\n",
       "    <tr style=\"text-align: right;\">\n",
       "      <th></th>\n",
       "      <th>DEVICEID</th>\n",
       "      <th>DEVICENAME</th>\n",
       "      <th>DESCRIPTION</th>\n",
       "      <th>STARTTIME</th>\n",
       "      <th>ENDTIME</th>\n",
       "      <th>INCOUNT</th>\n",
       "      <th>OUTCOUNT</th>\n",
       "      <th>MONTH</th>\n",
       "    </tr>\n",
       "  </thead>\n",
       "  <tbody>\n",
       "    <tr>\n",
       "      <th>0</th>\n",
       "      <td>2.0</td>\n",
       "      <td>계동길 69</td>\n",
       "      <td>계동교회 앞</td>\n",
       "      <td>2022-11-30 21:10:41</td>\n",
       "      <td>2022-11-30 21:20:41</td>\n",
       "      <td>9386.0</td>\n",
       "      <td>13749.0</td>\n",
       "      <td>11</td>\n",
       "    </tr>\n",
       "    <tr>\n",
       "      <th>1</th>\n",
       "      <td>1.0</td>\n",
       "      <td>율곡로3길 50</td>\n",
       "      <td>덕성여고 앞</td>\n",
       "      <td>2022-11-30 21:10:41</td>\n",
       "      <td>2022-11-30 21:20:41</td>\n",
       "      <td>7903.0</td>\n",
       "      <td>5279.0</td>\n",
       "      <td>11</td>\n",
       "    </tr>\n",
       "    <tr>\n",
       "      <th>2</th>\n",
       "      <td>2.0</td>\n",
       "      <td>계동길 69</td>\n",
       "      <td>계동교회 앞</td>\n",
       "      <td>2022-11-30 21:20:41</td>\n",
       "      <td>2022-11-30 21:30:41</td>\n",
       "      <td>9398.0</td>\n",
       "      <td>13776.0</td>\n",
       "      <td>11</td>\n",
       "    </tr>\n",
       "    <tr>\n",
       "      <th>3</th>\n",
       "      <td>1.0</td>\n",
       "      <td>율곡로3길 50</td>\n",
       "      <td>덕성여고 앞</td>\n",
       "      <td>2022-11-30 21:20:41</td>\n",
       "      <td>2022-11-30 21:30:41</td>\n",
       "      <td>7927.0</td>\n",
       "      <td>5312.0</td>\n",
       "      <td>11</td>\n",
       "    </tr>\n",
       "    <tr>\n",
       "      <th>4</th>\n",
       "      <td>2.0</td>\n",
       "      <td>계동길 69</td>\n",
       "      <td>계동교회 앞</td>\n",
       "      <td>2022-11-30 21:30:41</td>\n",
       "      <td>2022-11-30 21:40:41</td>\n",
       "      <td>9414.0</td>\n",
       "      <td>13800.0</td>\n",
       "      <td>11</td>\n",
       "    </tr>\n",
       "    <tr>\n",
       "      <th>...</th>\n",
       "      <td>...</td>\n",
       "      <td>...</td>\n",
       "      <td>...</td>\n",
       "      <td>...</td>\n",
       "      <td>...</td>\n",
       "      <td>...</td>\n",
       "      <td>...</td>\n",
       "      <td>...</td>\n",
       "    </tr>\n",
       "    <tr>\n",
       "      <th>196</th>\n",
       "      <td>1.0</td>\n",
       "      <td>율곡로3길 50</td>\n",
       "      <td>덕성여고 앞</td>\n",
       "      <td>2023-01-27 09:30:41</td>\n",
       "      <td>2023-01-27 09:40:41</td>\n",
       "      <td>812.0</td>\n",
       "      <td>260.0</td>\n",
       "      <td>01</td>\n",
       "    </tr>\n",
       "    <tr>\n",
       "      <th>197</th>\n",
       "      <td>2.0</td>\n",
       "      <td>계동길 69</td>\n",
       "      <td>계동교회 앞</td>\n",
       "      <td>2023-01-27 09:40:41</td>\n",
       "      <td>2023-01-27 09:50:41</td>\n",
       "      <td>1494.0</td>\n",
       "      <td>2326.0</td>\n",
       "      <td>01</td>\n",
       "    </tr>\n",
       "    <tr>\n",
       "      <th>198</th>\n",
       "      <td>1.0</td>\n",
       "      <td>율곡로3길 50</td>\n",
       "      <td>덕성여고 앞</td>\n",
       "      <td>2023-01-27 09:40:41</td>\n",
       "      <td>2023-01-27 09:50:41</td>\n",
       "      <td>833.0</td>\n",
       "      <td>270.0</td>\n",
       "      <td>01</td>\n",
       "    </tr>\n",
       "    <tr>\n",
       "      <th>199</th>\n",
       "      <td>2.0</td>\n",
       "      <td>계동길 69</td>\n",
       "      <td>계동교회 앞</td>\n",
       "      <td>2023-01-27 09:50:41</td>\n",
       "      <td>2023-01-27 10:00:41</td>\n",
       "      <td>1594.0</td>\n",
       "      <td>2443.0</td>\n",
       "      <td>01</td>\n",
       "    </tr>\n",
       "    <tr>\n",
       "      <th>200</th>\n",
       "      <td>1.0</td>\n",
       "      <td>율곡로3길 50</td>\n",
       "      <td>덕성여고 앞</td>\n",
       "      <td>2023-01-27 09:50:41</td>\n",
       "      <td>2023-01-27 10:00:41</td>\n",
       "      <td>870.0</td>\n",
       "      <td>284.0</td>\n",
       "      <td>01</td>\n",
       "    </tr>\n",
       "  </tbody>\n",
       "</table>\n",
       "<p>29201 rows × 8 columns</p>\n",
       "</div>"
      ],
      "text/plain": [
       "     DEVICEID DEVICENAME DESCRIPTION            STARTTIME  \\\n",
       "0         2.0     계동길 69      계동교회 앞  2022-11-30 21:10:41   \n",
       "1         1.0   율곡로3길 50      덕성여고 앞  2022-11-30 21:10:41   \n",
       "2         2.0     계동길 69      계동교회 앞  2022-11-30 21:20:41   \n",
       "3         1.0   율곡로3길 50      덕성여고 앞  2022-11-30 21:20:41   \n",
       "4         2.0     계동길 69      계동교회 앞  2022-11-30 21:30:41   \n",
       "..        ...        ...         ...                  ...   \n",
       "196       1.0   율곡로3길 50      덕성여고 앞  2023-01-27 09:30:41   \n",
       "197       2.0     계동길 69      계동교회 앞  2023-01-27 09:40:41   \n",
       "198       1.0   율곡로3길 50      덕성여고 앞  2023-01-27 09:40:41   \n",
       "199       2.0     계동길 69      계동교회 앞  2023-01-27 09:50:41   \n",
       "200       1.0   율곡로3길 50      덕성여고 앞  2023-01-27 09:50:41   \n",
       "\n",
       "                 ENDTIME  INCOUNT  OUTCOUNT MONTH  \n",
       "0    2022-11-30 21:20:41   9386.0   13749.0    11  \n",
       "1    2022-11-30 21:20:41   7903.0    5279.0    11  \n",
       "2    2022-11-30 21:30:41   9398.0   13776.0    11  \n",
       "3    2022-11-30 21:30:41   7927.0    5312.0    11  \n",
       "4    2022-11-30 21:40:41   9414.0   13800.0    11  \n",
       "..                   ...      ...       ...   ...  \n",
       "196  2023-01-27 09:40:41    812.0     260.0    01  \n",
       "197  2023-01-27 09:50:41   1494.0    2326.0    01  \n",
       "198  2023-01-27 09:50:41    833.0     270.0    01  \n",
       "199  2023-01-27 10:00:41   1594.0    2443.0    01  \n",
       "200  2023-01-27 10:00:41    870.0     284.0    01  \n",
       "\n",
       "[29201 rows x 8 columns]"
      ]
     },
     "execution_count": 6,
     "metadata": {},
     "output_type": "execute_result"
    }
   ],
   "source": [
    "df"
   ]
  },
  {
   "cell_type": "markdown",
   "id": "de063c98",
   "metadata": {},
   "source": [
    "# 연습문제 3-2)"
   ]
  },
  {
   "cell_type": "code",
   "execution_count": 29,
   "id": "14bcc3ce",
   "metadata": {},
   "outputs": [
    {
     "data": {
      "text/plain": [
       "MONTH\n",
       "01    2396.348822\n",
       "Name: INCOUNT, dtype: float64"
      ]
     },
     "execution_count": 29,
     "metadata": {},
     "output_type": "execute_result"
    }
   ],
   "source": [
    "df[df['MONTH'] == '01'].groupby('MONTH')['INCOUNT'].mean()"
   ]
  },
  {
   "cell_type": "markdown",
   "id": "459fca53",
   "metadata": {},
   "source": [
    "# 연습문제 3-3)"
   ]
  },
  {
   "cell_type": "code",
   "execution_count": 23,
   "id": "39652797",
   "metadata": {},
   "outputs": [],
   "source": [
    "df['month'] = df['MONTH'] == '01'"
   ]
  },
  {
   "cell_type": "code",
   "execution_count": 107,
   "id": "44c44669",
   "metadata": {},
   "outputs": [
    {
     "data": {
      "text/plain": [
       "MONTH\n",
       "12    2733.625183\n",
       "Name: OUTCOUNT, dtype: float64"
      ]
     },
     "execution_count": 107,
     "metadata": {},
     "output_type": "execute_result"
    }
   ],
   "source": [
    "df[df['MONTH'] == '12'].groupby('MONTH')['OUTCOUNT'].mean()"
   ]
  },
  {
   "cell_type": "code",
   "execution_count": 56,
   "id": "5dd192f6",
   "metadata": {},
   "outputs": [],
   "source": [
    "result = pd.concat([A, B])"
   ]
  },
  {
   "cell_type": "code",
   "execution_count": 62,
   "id": "7a7eb6fa",
   "metadata": {},
   "outputs": [
    {
     "data": {
      "text/plain": [
       "2663.65572114108"
      ]
     },
     "execution_count": 62,
     "metadata": {},
     "output_type": "execute_result"
    }
   ],
   "source": [
    "result.mean()"
   ]
  },
  {
   "cell_type": "code",
   "execution_count": 63,
   "id": "b48f0084",
   "metadata": {},
   "outputs": [
    {
     "data": {
      "text/plain": [
       "MONTH\n",
       "12    2733.625183\n",
       "01    2593.686259\n",
       "Name: OUTCOUNT, dtype: float64"
      ]
     },
     "execution_count": 63,
     "metadata": {},
     "output_type": "execute_result"
    }
   ],
   "source": [
    "result"
   ]
  },
  {
   "cell_type": "code",
   "execution_count": 108,
   "id": "f8485283",
   "metadata": {},
   "outputs": [
    {
     "data": {
      "text/plain": [
       "MONTH\n",
       "01    2593.686259\n",
       "Name: OUTCOUNT, dtype: float64"
      ]
     },
     "execution_count": 108,
     "metadata": {},
     "output_type": "execute_result"
    }
   ],
   "source": [
    "df[df['MONTH'] == '01'].groupby('MONTH')['OUTCOUNT'].mean()"
   ]
  },
  {
   "cell_type": "markdown",
   "id": "53d01413",
   "metadata": {},
   "source": [
    "# 연습문제 3-4)"
   ]
  },
  {
   "cell_type": "raw",
   "id": "906cf923",
   "metadata": {},
   "source": [
    "result = pd.concat([df[df['MONTH'] == '12'], df[df['MONTH'] == '01']])"
   ]
  },
  {
   "cell_type": "code",
   "execution_count": 109,
   "id": "77755f81",
   "metadata": {},
   "outputs": [
    {
     "data": {
      "text/plain": [
       "MONTH\n",
       "12    0.0\n",
       "Name: INCOUNT, dtype: float64"
      ]
     },
     "execution_count": 109,
     "metadata": {},
     "output_type": "execute_result"
    }
   ],
   "source": [
    "df[df['MONTH'] == '12'].groupby('MONTH')['INCOUNT'].min()"
   ]
  },
  {
   "cell_type": "code",
   "execution_count": 110,
   "id": "0ee45f41",
   "metadata": {
    "scrolled": true
   },
   "outputs": [
    {
     "data": {
      "text/plain": [
       "MONTH\n",
       "12    11469.0\n",
       "Name: INCOUNT, dtype: float64"
      ]
     },
     "execution_count": 110,
     "metadata": {},
     "output_type": "execute_result"
    }
   ],
   "source": [
    "df[df['MONTH'] == '12'].groupby('MONTH')['INCOUNT'].max()"
   ]
  },
  {
   "cell_type": "code",
   "execution_count": 111,
   "id": "5cddc399",
   "metadata": {},
   "outputs": [
    {
     "data": {
      "text/plain": [
       "MONTH\n",
       "01    0.0\n",
       "Name: OUTCOUNT, dtype: float64"
      ]
     },
     "execution_count": 111,
     "metadata": {},
     "output_type": "execute_result"
    }
   ],
   "source": [
    "df[df['MONTH'] == '01'].groupby('MONTH')['OUTCOUNT'].min()"
   ]
  },
  {
   "cell_type": "code",
   "execution_count": 112,
   "id": "ff8db493",
   "metadata": {
    "scrolled": false
   },
   "outputs": [
    {
     "data": {
      "text/plain": [
       "MONTH\n",
       "01    13592.0\n",
       "Name: OUTCOUNT, dtype: float64"
      ]
     },
     "execution_count": 112,
     "metadata": {},
     "output_type": "execute_result"
    }
   ],
   "source": [
    "df[df['MONTH'] == '01'].groupby('MONTH')['OUTCOUNT'].max()"
   ]
  },
  {
   "cell_type": "markdown",
   "id": "738666f9",
   "metadata": {},
   "source": [
    "# 연습문제 3-5"
   ]
  },
  {
   "cell_type": "code",
   "execution_count": 129,
   "id": "1fd7ddef",
   "metadata": {},
   "outputs": [
    {
     "data": {
      "text/plain": [
       "[Text(0, 0, '12'), Text(1, 0, '01')]"
      ]
     },
     "execution_count": 129,
     "metadata": {},
     "output_type": "execute_result"
    },
    {
     "data": {
      "image/png": "[encoded data removed]",
      "text/plain": [
       "<Figure size 432x288 with 1 Axes>"
      ]
     },
     "metadata": {
      "needs_background": "light"
     },
     "output_type": "display_data"
    }
   ],
   "source": [
    "import seaborn as sns\n",
    "\n",
    "a = df[df['MONTH'] == '12'].groupby('MONTH')['OUTCOUNT'].mean()\n",
    "b = df[df['MONTH'] == '01'].groupby('MONTH')['OUTCOUNT'].mean()\n",
    "\n",
    "g = sns.barplot(data = (a,b))\n",
    "g.set_xticklabels(['12', '01'])"
   ]
  }
 ],
 "metadata": {
  "kernelspec": {
   "display_name": "Python 3 (ipykernel)",
   "language": "python",
   "name": "python3"
  },
  "language_info": {
   "codemirror_mode": {
    "name": "ipython",
    "version": 3
   },
   "file_extension": ".py",
   "mimetype": "text/x-python",
   "name": "python",
   "nbconvert_exporter": "python",
   "pygments_lexer": "ipython3",
   "version": "3.9.12"
  }
 },
 "nbformat": 4,
 "nbformat_minor": 5
}
