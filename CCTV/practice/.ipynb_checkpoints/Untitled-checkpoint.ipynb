{
 "cells": [
  {
   "cell_type": "markdown",
   "id": "9d182c40",
   "metadata": {},
   "source": [
    "# 연습문제 1-1)"
   ]
  },
  {
   "cell_type": "code",
   "execution_count": 26,
   "id": "c8b8c302",
   "metadata": {},
   "outputs": [],
   "source": [
    "file_type = 'json'\n",
    "service_name = 'BukChonInOutPeopleInfo'\n",
    "\n",
    "url = \"http://openapi.seoul.go.kr:8088/sample/{}/{}/1/5/\".format(file_type, service_name)"
   ]
  },
  {
   "cell_type": "code",
   "execution_count": 27,
   "id": "cb3d6f2f",
   "metadata": {},
   "outputs": [
    {
     "data": {
      "text/plain": [
       "'http://openapi.seoul.go.kr:8088/sample/json/BukChonInOutPeopleInfo/1/5/'"
      ]
     },
     "execution_count": 27,
     "metadata": {},
     "output_type": "execute_result"
    }
   ],
   "source": [
    "url"
   ]
  },
  {
   "cell_type": "markdown",
   "id": "6f24430e",
   "metadata": {},
   "source": [
    "# 연습문제 1-2)"
   ]
  },
  {
   "cell_type": "code",
   "execution_count": 44,
   "id": "a281b707",
   "metadata": {},
   "outputs": [],
   "source": [
    "import os\n",
    "\n",
    "url = os.path.join(\"http://openapi.seoul.go.kr:8088/sample/\", 'json/', 'BukChonInOutPeopleInfo/','1/5/')"
   ]
  },
  {
   "cell_type": "code",
   "execution_count": 45,
   "id": "e13701d8",
   "metadata": {},
   "outputs": [
    {
     "data": {
      "text/plain": [
       "'http://openapi.seoul.go.kr:8088/sample/json/BukChonInOutPeopleInfo/1/5/'"
      ]
     },
     "execution_count": 45,
     "metadata": {},
     "output_type": "execute_result"
    }
   ],
   "source": [
    "url"
   ]
  },
  {
   "cell_type": "markdown",
   "id": "e9ac4129",
   "metadata": {},
   "source": [
    "# 연습문제 1-3)"
   ]
  },
  {
   "cell_type": "code",
   "execution_count": 46,
   "id": "3483f3ca",
   "metadata": {},
   "outputs": [
    {
     "name": "stdout",
     "output_type": "stream",
     "text": [
      "http://openapi.seoul.go.kr:8088/sample/json/BukChonInOutPeopleInfo/1/5/\n"
     ]
    }
   ],
   "source": [
    "{\"BukChonInOutPeopleInfo\":{\"list_total_count\":29333,\"RESULT\":{\"CODE\":\"INFO-000\",\"MESSAGE\":\"정상 처리되었습니다\"},\"row\":[{\"DEVICEID\":2.0,\"DEVICENAME\":\"계동길 69\",\"DESCRIPTION\":\"계동교회 앞\",\"STARTTIME\":\"2022-11-30 21:10:41\",\"ENDTIME\":\"2022-11-30 21:20:41\",\"INCOUNT\":9386.0,\"OUTCOUNT\":13749.0},{\"DEVICEID\":1.0,\"DEVICENAME\":\"율곡로3길 50\",\"DESCRIPTION\":\"덕성여고 앞\",\"STARTTIME\":\"2022-11-30 21:10:41\",\"ENDTIME\":\"2022-11-30 21:20:41\",\"INCOUNT\":7903.0,\"OUTCOUNT\":5279.0},{\"DEVICEID\":2.0,\"DEVICENAME\":\"계동길 69\",\"DESCRIPTION\":\"계동교회 앞\",\"STARTTIME\":\"2022-11-30 21:20:41\",\"ENDTIME\":\"2022-11-30 21:30:41\",\"INCOUNT\":9398.0,\"OUTCOUNT\":13776.0},{\"DEVICEID\":1.0,\"DEVICENAME\":\"율곡로3길 50\",\"DESCRIPTION\":\"덕성여고 앞\",\"STARTTIME\":\"2022-11-30 21:20:41\",\"ENDTIME\":\"2022-11-30 21:30:41\",\"INCOUNT\":7927.0,\"OUTCOUNT\":5312.0},{\"DEVICEID\":2.0,\"DEVICENAME\":\"계동길 69\",\"DESCRIPTION\":\"계동교회 앞\",\"STARTTIME\":\"2022-11-30 21:30:41\",\"ENDTIME\":\"2022-11-30 21:40:41\",\"INCOUNT\":9414.0,\"OUTCOUNT\":13800.0}]}}"
   ]
  },
  {
   "cell_type": "markdown",
   "id": "f0b0c84b",
   "metadata": {},
   "source": [
    "# 연습문제 1-4)"
   ]
  },
  {
   "cell_type": "code",
   "execution_count": 47,
   "id": "be402451",
   "metadata": {},
   "outputs": [],
   "source": [
    "data = '{\"BukChonInOutPeopleInfo\":{\"list_total_count\":29333,\"RESULT\":{\"CODE\":\"INFO-000\",\"MESSAGE\":\"정상 처리되었습니다\"},\"row\":[{\"DEVICEID\":2.0,\"DEVICENAME\":\"계동길 69\",\"DESCRIPTION\":\"계동교회 앞\",\"STARTTIME\":\"2022-11-30 21:10:41\",\"ENDTIME\":\"2022-11-30 21:20:41\",\"INCOUNT\":9386.0,\"OUTCOUNT\":13749.0},{\"DEVICEID\":1.0,\"DEVICENAME\":\"율곡로3길 50\",\"DESCRIPTION\":\"덕성여고 앞\",\"STARTTIME\":\"2022-11-30 21:10:41\",\"ENDTIME\":\"2022-11-30 21:20:41\",\"INCOUNT\":7903.0,\"OUTCOUNT\":5279.0},{\"DEVICEID\":2.0,\"DEVICENAME\":\"계동길 69\",\"DESCRIPTION\":\"계동교회 앞\",\"STARTTIME\":\"2022-11-30 21:20:41\",\"ENDTIME\":\"2022-11-30 21:30:41\",\"INCOUNT\":9398.0,\"OUTCOUNT\":13776.0},{\"DEVICEID\":1.0,\"DEVICENAME\":\"율곡로3길 50\",\"DESCRIPTION\":\"덕성여고 앞\",\"STARTTIME\":\"2022-11-30 21:20:41\",\"ENDTIME\":\"2022-11-30 21:30:41\",\"INCOUNT\":7927.0,\"OUTCOUNT\":5312.0},{\"DEVICEID\":2.0,\"DEVICENAME\":\"계동길 69\",\"DESCRIPTION\":\"계동교회 앞\",\"STARTTIME\":\"2022-11-30 21:30:41\",\"ENDTIME\":\"2022-11-30 21:40:41\",\"INCOUNT\":9414.0,\"OUTCOUNT\":13800.0}]}}'"
   ]
  },
  {
   "cell_type": "code",
   "execution_count": 59,
   "id": "a34db949",
   "metadata": {},
   "outputs": [],
   "source": [
    "data1 = {\"BukChonInOutPeopleInfo\":{\"list_total_count\":29333,\"RESULT\":{\"CODE\":\"INFO-000\",\"MESSAGE\":\"정상 처리되었습니다\"},\"row\":[{\"DEVICEID\":2.0,\"DEVICENAME\":\"계동길 69\",\"DESCRIPTION\":\"계동교회 앞\",\"STARTTIME\":\"2022-11-30 21:10:41\",\"ENDTIME\":\"2022-11-30 21:20:41\",\"INCOUNT\":9386.0,\"OUTCOUNT\":13749.0},{\"DEVICEID\":1.0,\"DEVICENAME\":\"율곡로3길 50\",\"DESCRIPTION\":\"덕성여고 앞\",\"STARTTIME\":\"2022-11-30 21:10:41\",\"ENDTIME\":\"2022-11-30 21:20:41\",\"INCOUNT\":7903.0,\"OUTCOUNT\":5279.0},{\"DEVICEID\":2.0,\"DEVICENAME\":\"계동길 69\",\"DESCRIPTION\":\"계동교회 앞\",\"STARTTIME\":\"2022-11-30 21:20:41\",\"ENDTIME\":\"2022-11-30 21:30:41\",\"INCOUNT\":9398.0,\"OUTCOUNT\":13776.0},{\"DEVICEID\":1.0,\"DEVICENAME\":\"율곡로3길 50\",\"DESCRIPTION\":\"덕성여고 앞\",\"STARTTIME\":\"2022-11-30 21:20:41\",\"ENDTIME\":\"2022-11-30 21:30:41\",\"INCOUNT\":7927.0,\"OUTCOUNT\":5312.0},{\"DEVICEID\":2.0,\"DEVICENAME\":\"계동길 69\",\"DESCRIPTION\":\"계동교회 앞\",\"STARTTIME\":\"2022-11-30 21:30:41\",\"ENDTIME\":\"2022-11-30 21:40:41\",\"INCOUNT\":9414.0,\"OUTCOUNT\":13800.0}]}}"
   ]
  },
  {
   "cell_type": "code",
   "execution_count": 48,
   "id": "445077a9",
   "metadata": {},
   "outputs": [
    {
     "data": {
      "text/plain": [
       "'{\"BukChonInOutPeopleInfo\":{\"list_total_count\":29333,\"RESULT\":{\"CODE\":\"INFO-000\",\"MESSAGE\":\"정상 처리되었습니다\"},\"row\":[{\"DEVICEID\":2.0,\"DEVICENAME\":\"계동길 69\",\"DESCRIPTION\":\"계동교회 앞\",\"STARTTIME\":\"2022-11-30 21:10:41\",\"ENDTIME\":\"2022-11-30 21:20:41\",\"INCOUNT\":9386.0,\"OUTCOUNT\":13749.0},{\"DEVICEID\":1.0,\"DEVICENAME\":\"율곡로3길 50\",\"DESCRIPTION\":\"덕성여고 앞\",\"STARTTIME\":\"2022-11-30 21:10:41\",\"ENDTIME\":\"2022-11-30 21:20:41\",\"INCOUNT\":7903.0,\"OUTCOUNT\":5279.0},{\"DEVICEID\":2.0,\"DEVICENAME\":\"계동길 69\",\"DESCRIPTION\":\"계동교회 앞\",\"STARTTIME\":\"2022-11-30 21:20:41\",\"ENDTIME\":\"2022-11-30 21:30:41\",\"INCOUNT\":9398.0,\"OUTCOUNT\":13776.0},{\"DEVICEID\":1.0,\"DEVICENAME\":\"율곡로3길 50\",\"DESCRIPTION\":\"덕성여고 앞\",\"STARTTIME\":\"2022-11-30 21:20:41\",\"ENDTIME\":\"2022-11-30 21:30:41\",\"INCOUNT\":7927.0,\"OUTCOUNT\":5312.0},{\"DEVICEID\":2.0,\"DEVICENAME\":\"계동길 69\",\"DESCRIPTION\":\"계동교회 앞\",\"STARTTIME\":\"2022-11-30 21:30:41\",\"ENDTIME\":\"2022-11-30 21:40:41\",\"INCOUNT\":9414.0,\"OUTCOUNT\":13800.0}]}}'"
      ]
     },
     "execution_count": 48,
     "metadata": {},
     "output_type": "execute_result"
    }
   ],
   "source": [
    "data"
   ]
  },
  {
   "cell_type": "markdown",
   "id": "51ed1dfd",
   "metadata": {},
   "source": [
    "# 연습문제 2-1)"
   ]
  },
  {
   "cell_type": "code",
   "execution_count": 81,
   "id": "f0650e29",
   "metadata": {},
   "outputs": [],
   "source": [
    "import json\n",
    "\n",
    "dict_data = json.loads(data)\n"
   ]
  },
  {
   "cell_type": "code",
   "execution_count": 82,
   "id": "fb68843e",
   "metadata": {},
   "outputs": [
    {
     "data": {
      "text/plain": [
       "{'BukChonInOutPeopleInfo': {'list_total_count': 29333,\n",
       "  'RESULT': {'CODE': 'INFO-000', 'MESSAGE': '정상 처리되었습니다'},\n",
       "  'row': [{'DEVICEID': 2.0,\n",
       "    'DEVICENAME': '계동길 69',\n",
       "    'DESCRIPTION': '계동교회 앞',\n",
       "    'STARTTIME': '2022-11-30 21:10:41',\n",
       "    'ENDTIME': '2022-11-30 21:20:41',\n",
       "    'INCOUNT': 9386.0,\n",
       "    'OUTCOUNT': 13749.0},\n",
       "   {'DEVICEID': 1.0,\n",
       "    'DEVICENAME': '율곡로3길 50',\n",
       "    'DESCRIPTION': '덕성여고 앞',\n",
       "    'STARTTIME': '2022-11-30 21:10:41',\n",
       "    'ENDTIME': '2022-11-30 21:20:41',\n",
       "    'INCOUNT': 7903.0,\n",
       "    'OUTCOUNT': 5279.0},\n",
       "   {'DEVICEID': 2.0,\n",
       "    'DEVICENAME': '계동길 69',\n",
       "    'DESCRIPTION': '계동교회 앞',\n",
       "    'STARTTIME': '2022-11-30 21:20:41',\n",
       "    'ENDTIME': '2022-11-30 21:30:41',\n",
       "    'INCOUNT': 9398.0,\n",
       "    'OUTCOUNT': 13776.0},\n",
       "   {'DEVICEID': 1.0,\n",
       "    'DEVICENAME': '율곡로3길 50',\n",
       "    'DESCRIPTION': '덕성여고 앞',\n",
       "    'STARTTIME': '2022-11-30 21:20:41',\n",
       "    'ENDTIME': '2022-11-30 21:30:41',\n",
       "    'INCOUNT': 7927.0,\n",
       "    'OUTCOUNT': 5312.0},\n",
       "   {'DEVICEID': 2.0,\n",
       "    'DEVICENAME': '계동길 69',\n",
       "    'DESCRIPTION': '계동교회 앞',\n",
       "    'STARTTIME': '2022-11-30 21:30:41',\n",
       "    'ENDTIME': '2022-11-30 21:40:41',\n",
       "    'INCOUNT': 9414.0,\n",
       "    'OUTCOUNT': 13800.0}]}}"
      ]
     },
     "execution_count": 82,
     "metadata": {},
     "output_type": "execute_result"
    }
   ],
   "source": [
    "dict_data"
   ]
  },
  {
   "cell_type": "code",
   "execution_count": 83,
   "id": "1f122f99",
   "metadata": {},
   "outputs": [
    {
     "data": {
      "text/plain": [
       "dict"
      ]
     },
     "execution_count": 83,
     "metadata": {},
     "output_type": "execute_result"
    }
   ],
   "source": [
    "type(dict_data)"
   ]
  },
  {
   "cell_type": "markdown",
   "id": "e9b6c810",
   "metadata": {},
   "source": [
    "# 연습문제 3-1)"
   ]
  },
  {
   "cell_type": "code",
   "execution_count": 2,
   "id": "bf43b632",
   "metadata": {
    "scrolled": true
   },
   "outputs": [],
   "source": [
    "import pandas as pd\n",
    "import json\n",
    "from urllib.request import urlopen\n",
    "import requests\n",
    "\n",
    "df = pd.DataFrame()\n",
    "\n",
    "for i in range(1,30000,1000):\n",
    "    url = 'http://openapi.seoul.go.kr:8088/72734e5947776f6f35336c4d464a61/json/BukChonInOutPeopleInfo/{}/{}/'.format(i,i+999)\n",
    "    response = requests.get(url)\n",
    "    dict_data = json.loads(response.text)\n",
    "    specialdf = pd.DataFrame(dict_data['BukChonInOutPeopleInfo']['row'])\n",
    "    df = pd.concat([df, specialdf])\n",
    "df['MONTH'] = df['ENDTIME'].str.split('-').str[1]"
   ]
  },
  {
   "cell_type": "markdown",
   "id": "e3a3a604",
   "metadata": {},
   "source": [
    "# 연습문제 3-2)"
   ]
  },
  {
   "cell_type": "code",
   "execution_count": 29,
   "id": "14bcc3ce",
   "metadata": {},
   "outputs": [
    {
     "data": {
      "text/plain": [
       "MONTH\n",
       "01    2396.348822\n",
       "Name: INCOUNT, dtype: float64"
      ]
     },
     "execution_count": 29,
     "metadata": {},
     "output_type": "execute_result"
    }
   ],
   "source": [
    "df[df['MONTH'] == '01'].groupby('MONTH')['INCOUNT'].mean()"
   ]
  },
  {
   "cell_type": "markdown",
   "id": "0145ea48",
   "metadata": {},
   "source": [
    "# 연습문제 3-3)"
   ]
  },
  {
   "cell_type": "code",
   "execution_count": 66,
   "id": "85d42d91",
   "metadata": {},
   "outputs": [
    {
     "data": {
      "text/plain": [
       "2663.65572114108"
      ]
     },
     "execution_count": 66,
     "metadata": {},
     "output_type": "execute_result"
    }
   ],
   "source": [
    "A = df[df['MONTH'] == '12'].groupby('MONTH')['OUTCOUNT'].mean()\n",
    "B = df[df['MONTH'] == '01'].groupby('MONTH')['OUTCOUNT'].mean()\n",
    "\n",
    "result = pd.concat([A, B])\n",
    "result.mean()"
   ]
  },
  {
   "cell_type": "markdown",
   "id": "70be86a7",
   "metadata": {},
   "source": [
    "# 연습문제 3-4)"
   ]
  },
  {
   "cell_type": "code",
   "execution_count": 83,
   "id": "810ff90b",
   "metadata": {},
   "outputs": [],
   "source": [
    "result = pd.concat([df[df['MONTH'] == '12'], df[df['MONTH'] == '01']])"
   ]
  },
  {
   "cell_type": "raw",
   "id": "d3e0c84b",
   "metadata": {},
   "source": []
  },
  {
   "cell_type": "code",
   "execution_count": 80,
   "id": "1200c1df",
   "metadata": {},
   "outputs": [
    {
     "data": {
      "text/plain": [
       "False"
      ]
     },
     "execution_count": 80,
     "metadata": {},
     "output_type": "execute_result"
    }
   ],
   "source": [
    "'0.0' in result['INCOUNT']"
   ]
  },
  {
   "cell_type": "code",
   "execution_count": 82,
   "id": "95087ced",
   "metadata": {},
   "outputs": [
    {
     "data": {
      "text/plain": [
       "0.0"
      ]
     },
     "execution_count": 82,
     "metadata": {},
     "output_type": "execute_result"
    }
   ],
   "source": [
    "result['INCOUNT'].min()"
   ]
  },
  {
   "cell_type": "code",
   "execution_count": null,
   "id": "b940e8b3",
   "metadata": {},
   "outputs": [],
   "source": []
  }
 ],
 "metadata": {
  "kernelspec": {
   "display_name": "Python 3 (ipykernel)",
   "language": "python",
   "name": "python3"
  },
  "language_info": {
   "codemirror_mode": {
    "name": "ipython",
    "version": 3
   },
   "file_extension": ".py",
   "mimetype": "text/x-python",
   "name": "python",
   "nbconvert_exporter": "python",
   "pygments_lexer": "ipython3",
   "version": "3.9.12"
  }
 },
 "nbformat": 4,
 "nbformat_minor": 5
}
