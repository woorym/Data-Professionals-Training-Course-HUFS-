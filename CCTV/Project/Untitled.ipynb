{
 "cells": [
  {
   "cell_type": "code",
   "execution_count": 272,
   "id": "fcc8cdf0",
   "metadata": {
    "scrolled": true
   },
   "outputs": [],
   "source": [
    "import pandas as pd\n",
    "import numpy as np\n",
    "\n",
    "import matplotlib.pyplot as plt\n",
    "import seaborn as sns\n",
    "\n",
    "import requests\n",
    "import json"
   ]
  },
  {
   "cell_type": "code",
   "execution_count": 273,
   "id": "b13a5be0",
   "metadata": {},
   "outputs": [],
   "source": [
    "df = pd.DataFrame()\n",
    "\n",
    "for i in range(1,30000,1000):\n",
    "    url = 'http://openapi.seoul.go.kr:8088/72734e5947776f6f35336c4d464a61/json/BukChonInOutPeopleInfo/{}/{}/'.format(i, i+999)\n",
    "    response = requests.get(url)\n",
    "    dict_data = json.loads(response.text)\n",
    "    specialdf = pd.DataFrame(dict_data['BukChonInOutPeopleInfo']['row'])\n",
    "    df = pd.concat([df ,specialdf])"
   ]
  },
  {
   "cell_type": "code",
   "execution_count": 274,
   "id": "4827190e",
   "metadata": {},
   "outputs": [],
   "source": [
    "df['Year'] = df['STARTTIME'].str.split(' ').str[0]\n",
    "df['Time'] = df['STARTTIME'].str.split(' ').str[1]"
   ]
  },
  {
   "cell_type": "code",
   "execution_count": 275,
   "id": "0e45da4d",
   "metadata": {},
   "outputs": [],
   "source": [
    "df['MONTH'] = df['Year'].str.split('-').str[1]\n",
    "df['Date'] = df['Time'].str.split(':').str[0]"
   ]
  },
  {
   "cell_type": "code",
   "execution_count": 276,
   "id": "1374ec2f",
   "metadata": {
    "scrolled": true
   },
   "outputs": [
    {
     "data": {
      "text/html": [
       "<div>\n",
       "<style scoped>\n",
       "    .dataframe tbody tr th:only-of-type {\n",
       "        vertical-align: middle;\n",
       "    }\n",
       "\n",
       "    .dataframe tbody tr th {\n",
       "        vertical-align: top;\n",
       "    }\n",
       "\n",
       "    .dataframe thead th {\n",
       "        text-align: right;\n",
       "    }\n",
       "</style>\n",
       "<table border=\"1\" class=\"dataframe\">\n",
       "  <thead>\n",
       "    <tr style=\"text-align: right;\">\n",
       "      <th></th>\n",
       "      <th>DEVICEID</th>\n",
       "      <th>DEVICENAME</th>\n",
       "      <th>DESCRIPTION</th>\n",
       "      <th>STARTTIME</th>\n",
       "      <th>ENDTIME</th>\n",
       "      <th>INCOUNT</th>\n",
       "      <th>OUTCOUNT</th>\n",
       "      <th>Year</th>\n",
       "      <th>Time</th>\n",
       "      <th>MONTH</th>\n",
       "      <th>Date</th>\n",
       "    </tr>\n",
       "  </thead>\n",
       "  <tbody>\n",
       "    <tr>\n",
       "      <th>0</th>\n",
       "      <td>2.0</td>\n",
       "      <td>계동길 69</td>\n",
       "      <td>계동교회 앞</td>\n",
       "      <td>2022-11-30 21:10:41</td>\n",
       "      <td>2022-11-30 21:20:41</td>\n",
       "      <td>9386.0</td>\n",
       "      <td>13749.0</td>\n",
       "      <td>2022-11-30</td>\n",
       "      <td>21:10:41</td>\n",
       "      <td>11</td>\n",
       "      <td>21</td>\n",
       "    </tr>\n",
       "    <tr>\n",
       "      <th>1</th>\n",
       "      <td>1.0</td>\n",
       "      <td>율곡로3길 50</td>\n",
       "      <td>덕성여고 앞</td>\n",
       "      <td>2022-11-30 21:10:41</td>\n",
       "      <td>2022-11-30 21:20:41</td>\n",
       "      <td>7903.0</td>\n",
       "      <td>5279.0</td>\n",
       "      <td>2022-11-30</td>\n",
       "      <td>21:10:41</td>\n",
       "      <td>11</td>\n",
       "      <td>21</td>\n",
       "    </tr>\n",
       "    <tr>\n",
       "      <th>2</th>\n",
       "      <td>2.0</td>\n",
       "      <td>계동길 69</td>\n",
       "      <td>계동교회 앞</td>\n",
       "      <td>2022-11-30 21:20:41</td>\n",
       "      <td>2022-11-30 21:30:41</td>\n",
       "      <td>9398.0</td>\n",
       "      <td>13776.0</td>\n",
       "      <td>2022-11-30</td>\n",
       "      <td>21:20:41</td>\n",
       "      <td>11</td>\n",
       "      <td>21</td>\n",
       "    </tr>\n",
       "    <tr>\n",
       "      <th>3</th>\n",
       "      <td>1.0</td>\n",
       "      <td>율곡로3길 50</td>\n",
       "      <td>덕성여고 앞</td>\n",
       "      <td>2022-11-30 21:20:41</td>\n",
       "      <td>2022-11-30 21:30:41</td>\n",
       "      <td>7927.0</td>\n",
       "      <td>5312.0</td>\n",
       "      <td>2022-11-30</td>\n",
       "      <td>21:20:41</td>\n",
       "      <td>11</td>\n",
       "      <td>21</td>\n",
       "    </tr>\n",
       "    <tr>\n",
       "      <th>4</th>\n",
       "      <td>2.0</td>\n",
       "      <td>계동길 69</td>\n",
       "      <td>계동교회 앞</td>\n",
       "      <td>2022-11-30 21:30:41</td>\n",
       "      <td>2022-11-30 21:40:41</td>\n",
       "      <td>9414.0</td>\n",
       "      <td>13800.0</td>\n",
       "      <td>2022-11-30</td>\n",
       "      <td>21:30:41</td>\n",
       "      <td>11</td>\n",
       "      <td>21</td>\n",
       "    </tr>\n",
       "    <tr>\n",
       "      <th>...</th>\n",
       "      <td>...</td>\n",
       "      <td>...</td>\n",
       "      <td>...</td>\n",
       "      <td>...</td>\n",
       "      <td>...</td>\n",
       "      <td>...</td>\n",
       "      <td>...</td>\n",
       "      <td>...</td>\n",
       "      <td>...</td>\n",
       "      <td>...</td>\n",
       "      <td>...</td>\n",
       "    </tr>\n",
       "    <tr>\n",
       "      <th>311</th>\n",
       "      <td>1.0</td>\n",
       "      <td>율곡로3길 50</td>\n",
       "      <td>덕성여고 앞</td>\n",
       "      <td>2023-01-30 19:10:41</td>\n",
       "      <td>2023-01-30 19:20:41</td>\n",
       "      <td>5469.0</td>\n",
       "      <td>4227.0</td>\n",
       "      <td>2023-01-30</td>\n",
       "      <td>19:10:41</td>\n",
       "      <td>01</td>\n",
       "      <td>19</td>\n",
       "    </tr>\n",
       "    <tr>\n",
       "      <th>312</th>\n",
       "      <td>2.0</td>\n",
       "      <td>계동길 69</td>\n",
       "      <td>계동교회 앞</td>\n",
       "      <td>2023-01-30 19:20:41</td>\n",
       "      <td>2023-01-30 19:30:41</td>\n",
       "      <td>2807.0</td>\n",
       "      <td>4373.0</td>\n",
       "      <td>2023-01-30</td>\n",
       "      <td>19:20:41</td>\n",
       "      <td>01</td>\n",
       "      <td>19</td>\n",
       "    </tr>\n",
       "    <tr>\n",
       "      <th>313</th>\n",
       "      <td>1.0</td>\n",
       "      <td>율곡로3길 50</td>\n",
       "      <td>덕성여고 앞</td>\n",
       "      <td>2023-01-30 19:20:41</td>\n",
       "      <td>2023-01-30 19:30:41</td>\n",
       "      <td>5577.0</td>\n",
       "      <td>4303.0</td>\n",
       "      <td>2023-01-30</td>\n",
       "      <td>19:20:41</td>\n",
       "      <td>01</td>\n",
       "      <td>19</td>\n",
       "    </tr>\n",
       "    <tr>\n",
       "      <th>314</th>\n",
       "      <td>2.0</td>\n",
       "      <td>계동길 69</td>\n",
       "      <td>계동교회 앞</td>\n",
       "      <td>2023-01-30 19:30:41</td>\n",
       "      <td>2023-01-30 19:40:41</td>\n",
       "      <td>2825.0</td>\n",
       "      <td>4398.0</td>\n",
       "      <td>2023-01-30</td>\n",
       "      <td>19:30:41</td>\n",
       "      <td>01</td>\n",
       "      <td>19</td>\n",
       "    </tr>\n",
       "    <tr>\n",
       "      <th>315</th>\n",
       "      <td>1.0</td>\n",
       "      <td>율곡로3길 50</td>\n",
       "      <td>덕성여고 앞</td>\n",
       "      <td>2023-01-30 19:30:41</td>\n",
       "      <td>2023-01-30 19:40:41</td>\n",
       "      <td>5676.0</td>\n",
       "      <td>4372.0</td>\n",
       "      <td>2023-01-30</td>\n",
       "      <td>19:30:41</td>\n",
       "      <td>01</td>\n",
       "      <td>19</td>\n",
       "    </tr>\n",
       "  </tbody>\n",
       "</table>\n",
       "<p>29316 rows × 11 columns</p>\n",
       "</div>"
      ],
      "text/plain": [
       "     DEVICEID DEVICENAME DESCRIPTION            STARTTIME  \\\n",
       "0         2.0     계동길 69      계동교회 앞  2022-11-30 21:10:41   \n",
       "1         1.0   율곡로3길 50      덕성여고 앞  2022-11-30 21:10:41   \n",
       "2         2.0     계동길 69      계동교회 앞  2022-11-30 21:20:41   \n",
       "3         1.0   율곡로3길 50      덕성여고 앞  2022-11-30 21:20:41   \n",
       "4         2.0     계동길 69      계동교회 앞  2022-11-30 21:30:41   \n",
       "..        ...        ...         ...                  ...   \n",
       "311       1.0   율곡로3길 50      덕성여고 앞  2023-01-30 19:10:41   \n",
       "312       2.0     계동길 69      계동교회 앞  2023-01-30 19:20:41   \n",
       "313       1.0   율곡로3길 50      덕성여고 앞  2023-01-30 19:20:41   \n",
       "314       2.0     계동길 69      계동교회 앞  2023-01-30 19:30:41   \n",
       "315       1.0   율곡로3길 50      덕성여고 앞  2023-01-30 19:30:41   \n",
       "\n",
       "                 ENDTIME  INCOUNT  OUTCOUNT        Year      Time MONTH Date  \n",
       "0    2022-11-30 21:20:41   9386.0   13749.0  2022-11-30  21:10:41    11   21  \n",
       "1    2022-11-30 21:20:41   7903.0    5279.0  2022-11-30  21:10:41    11   21  \n",
       "2    2022-11-30 21:30:41   9398.0   13776.0  2022-11-30  21:20:41    11   21  \n",
       "3    2022-11-30 21:30:41   7927.0    5312.0  2022-11-30  21:20:41    11   21  \n",
       "4    2022-11-30 21:40:41   9414.0   13800.0  2022-11-30  21:30:41    11   21  \n",
       "..                   ...      ...       ...         ...       ...   ...  ...  \n",
       "311  2023-01-30 19:20:41   5469.0    4227.0  2023-01-30  19:10:41    01   19  \n",
       "312  2023-01-30 19:30:41   2807.0    4373.0  2023-01-30  19:20:41    01   19  \n",
       "313  2023-01-30 19:30:41   5577.0    4303.0  2023-01-30  19:20:41    01   19  \n",
       "314  2023-01-30 19:40:41   2825.0    4398.0  2023-01-30  19:30:41    01   19  \n",
       "315  2023-01-30 19:40:41   5676.0    4372.0  2023-01-30  19:30:41    01   19  \n",
       "\n",
       "[29316 rows x 11 columns]"
      ]
     },
     "execution_count": 276,
     "metadata": {},
     "output_type": "execute_result"
    }
   ],
   "source": [
    "df"
   ]
  },
  {
   "cell_type": "markdown",
   "id": "86351ba8",
   "metadata": {},
   "source": [
    "# 한글폰트 설정(시각화 할떄)"
   ]
  },
  {
   "cell_type": "code",
   "execution_count": 277,
   "id": "d7d227cb",
   "metadata": {},
   "outputs": [],
   "source": [
    "plt.rc('font', family = 'Malgun Gothic')"
   ]
  },
  {
   "cell_type": "markdown",
   "id": "c95735bc",
   "metadata": {},
   "source": [
    "# 1. 월별 유동인구"
   ]
  },
  {
   "cell_type": "code",
   "execution_count": 278,
   "id": "fd03827b",
   "metadata": {
    "scrolled": true
   },
   "outputs": [
    {
     "name": "stderr",
     "output_type": "stream",
     "text": [
      "C:\\Users\\User\\AppData\\Local\\Temp\\ipykernel_32344\\1454869311.py:1: FutureWarning: Indexing with multiple keys (implicitly converted to a tuple of keys) will be deprecated, use a list instead.\n",
      "  df1 = pd.DataFrame(df.groupby('MONTH')['INCOUNT', 'OUTCOUNT'].sum().round())\n"
     ]
    }
   ],
   "source": [
    "df1 = pd.DataFrame(df.groupby('MONTH')['INCOUNT', 'OUTCOUNT'].sum().round())"
   ]
  },
  {
   "cell_type": "code",
   "execution_count": 279,
   "id": "438e03b3",
   "metadata": {},
   "outputs": [],
   "source": [
    "df1['Sum'] = df1['INCOUNT'] + df1['OUTCOUNT']"
   ]
  },
  {
   "cell_type": "code",
   "execution_count": 280,
   "id": "fae60e45",
   "metadata": {},
   "outputs": [
    {
     "data": {
      "text/html": [
       "<div>\n",
       "<style scoped>\n",
       "    .dataframe tbody tr th:only-of-type {\n",
       "        vertical-align: middle;\n",
       "    }\n",
       "\n",
       "    .dataframe tbody tr th {\n",
       "        vertical-align: top;\n",
       "    }\n",
       "\n",
       "    .dataframe thead th {\n",
       "        text-align: right;\n",
       "    }\n",
       "</style>\n",
       "<table border=\"1\" class=\"dataframe\">\n",
       "  <thead>\n",
       "    <tr style=\"text-align: right;\">\n",
       "      <th></th>\n",
       "      <th>INCOUNT</th>\n",
       "      <th>OUTCOUNT</th>\n",
       "      <th>Sum</th>\n",
       "    </tr>\n",
       "    <tr>\n",
       "      <th>MONTH</th>\n",
       "      <th></th>\n",
       "      <th></th>\n",
       "      <th></th>\n",
       "    </tr>\n",
       "  </thead>\n",
       "  <tbody>\n",
       "    <tr>\n",
       "      <th>01</th>\n",
       "      <td>19943765.0</td>\n",
       "      <td>21732696.0</td>\n",
       "      <td>41676461.0</td>\n",
       "    </tr>\n",
       "    <tr>\n",
       "      <th>10</th>\n",
       "      <td>8875053.0</td>\n",
       "      <td>9602168.0</td>\n",
       "      <td>18477221.0</td>\n",
       "    </tr>\n",
       "    <tr>\n",
       "      <th>11</th>\n",
       "      <td>54394522.0</td>\n",
       "      <td>59923628.0</td>\n",
       "      <td>114318150.0</td>\n",
       "    </tr>\n",
       "    <tr>\n",
       "      <th>12</th>\n",
       "      <td>23064041.0</td>\n",
       "      <td>24228120.0</td>\n",
       "      <td>47292161.0</td>\n",
       "    </tr>\n",
       "  </tbody>\n",
       "</table>\n",
       "</div>"
      ],
      "text/plain": [
       "          INCOUNT    OUTCOUNT          Sum\n",
       "MONTH                                     \n",
       "01     19943765.0  21732696.0   41676461.0\n",
       "10      8875053.0   9602168.0   18477221.0\n",
       "11     54394522.0  59923628.0  114318150.0\n",
       "12     23064041.0  24228120.0   47292161.0"
      ]
     },
     "execution_count": 280,
     "metadata": {},
     "output_type": "execute_result"
    }
   ],
   "source": [
    "df1"
   ]
  },
  {
   "cell_type": "code",
   "execution_count": 281,
   "id": "8aa2145a",
   "metadata": {
    "scrolled": false
   },
   "outputs": [],
   "source": [
    "Df1 = df1.loc[:,['Sum']]"
   ]
  },
  {
   "cell_type": "code",
   "execution_count": 282,
   "id": "cfe02101",
   "metadata": {},
   "outputs": [
    {
     "data": {
      "text/html": [
       "<div>\n",
       "<style scoped>\n",
       "    .dataframe tbody tr th:only-of-type {\n",
       "        vertical-align: middle;\n",
       "    }\n",
       "\n",
       "    .dataframe tbody tr th {\n",
       "        vertical-align: top;\n",
       "    }\n",
       "\n",
       "    .dataframe thead th {\n",
       "        text-align: right;\n",
       "    }\n",
       "</style>\n",
       "<table border=\"1\" class=\"dataframe\">\n",
       "  <thead>\n",
       "    <tr style=\"text-align: right;\">\n",
       "      <th></th>\n",
       "      <th>Sum</th>\n",
       "    </tr>\n",
       "    <tr>\n",
       "      <th>MONTH</th>\n",
       "      <th></th>\n",
       "    </tr>\n",
       "  </thead>\n",
       "  <tbody>\n",
       "    <tr>\n",
       "      <th>01</th>\n",
       "      <td>41676461.0</td>\n",
       "    </tr>\n",
       "    <tr>\n",
       "      <th>10</th>\n",
       "      <td>18477221.0</td>\n",
       "    </tr>\n",
       "    <tr>\n",
       "      <th>11</th>\n",
       "      <td>114318150.0</td>\n",
       "    </tr>\n",
       "    <tr>\n",
       "      <th>12</th>\n",
       "      <td>47292161.0</td>\n",
       "    </tr>\n",
       "  </tbody>\n",
       "</table>\n",
       "</div>"
      ],
      "text/plain": [
       "               Sum\n",
       "MONTH             \n",
       "01      41676461.0\n",
       "10      18477221.0\n",
       "11     114318150.0\n",
       "12      47292161.0"
      ]
     },
     "execution_count": 282,
     "metadata": {},
     "output_type": "execute_result"
    }
   ],
   "source": [
    "Df1"
   ]
  },
  {
   "cell_type": "code",
   "execution_count": 283,
   "id": "4c186f1a",
   "metadata": {
    "scrolled": true
   },
   "outputs": [
    {
     "data": {
      "text/plain": [
       "<AxesSubplot:xlabel='MONTH'>"
      ]
     },
     "execution_count": 283,
     "metadata": {},
     "output_type": "execute_result"
    },
    {
     "data": {
      "image/png": "[encoded data removed]",
      "text/plain": [
       "<Figure size 432x288 with 1 Axes>"
      ]
     },
     "metadata": {
      "needs_background": "light"
     },
     "output_type": "display_data"
    }
   ],
   "source": [
    "Df1.plot.bar()\n"
   ]
  },
  {
   "cell_type": "markdown",
   "id": "42864faf",
   "metadata": {},
   "source": [
    "# 2 . 요일별 유동인구"
   ]
  },
  {
   "cell_type": "code",
   "execution_count": 284,
   "id": "af018d85",
   "metadata": {},
   "outputs": [
    {
     "name": "stdout",
     "output_type": "stream",
     "text": [
      "<class 'pandas.core.series.Series'>\n",
      "Int64Index: 29316 entries, 0 to 315\n",
      "Series name: Year\n",
      "Non-Null Count  Dtype \n",
      "--------------  ----- \n",
      "29316 non-null  object\n",
      "dtypes: object(1)\n",
      "memory usage: 458.1+ KB\n"
     ]
    }
   ],
   "source": [
    "df['Year'].info()"
   ]
  },
  {
   "cell_type": "code",
   "execution_count": 285,
   "id": "d81433e5",
   "metadata": {},
   "outputs": [],
   "source": [
    "df['Year'] = pd.to_datetime(df['Year'])"
   ]
  },
  {
   "cell_type": "code",
   "execution_count": 286,
   "id": "da2d23c3",
   "metadata": {
    "scrolled": false
   },
   "outputs": [
    {
     "name": "stdout",
     "output_type": "stream",
     "text": [
      "<class 'pandas.core.series.Series'>\n",
      "Int64Index: 29316 entries, 0 to 315\n",
      "Series name: Year\n",
      "Non-Null Count  Dtype         \n",
      "--------------  -----         \n",
      "29316 non-null  datetime64[ns]\n",
      "dtypes: datetime64[ns](1)\n",
      "memory usage: 458.1 KB\n"
     ]
    }
   ],
   "source": [
    "df['Year'].info()"
   ]
  },
  {
   "cell_type": "code",
   "execution_count": 287,
   "id": "0e2ef548",
   "metadata": {},
   "outputs": [],
   "source": [
    "list = ['월', '화', '수', '목', '금', '토', '일']\n",
    "df['weekday'] = df['Year'].dt.weekday\n",
    "df['요일'] = df.apply(lambda x : list[x['weekday']], axis = 1)"
   ]
  },
  {
   "cell_type": "code",
   "execution_count": 288,
   "id": "08a0bf92",
   "metadata": {
    "scrolled": false
   },
   "outputs": [
    {
     "name": "stderr",
     "output_type": "stream",
     "text": [
      "C:\\Users\\User\\AppData\\Local\\Temp\\ipykernel_32344\\2354999474.py:1: FutureWarning: Indexing with multiple keys (implicitly converted to a tuple of keys) will be deprecated, use a list instead.\n",
      "  df2 = pd.DataFrame(df.groupby(['요일'])['INCOUNT','OUTCOUNT'].sum().round())\n"
     ]
    }
   ],
   "source": [
    "df2 = pd.DataFrame(df.groupby(['요일'])['INCOUNT','OUTCOUNT'].sum().round())"
   ]
  },
  {
   "cell_type": "code",
   "execution_count": 289,
   "id": "87452440",
   "metadata": {},
   "outputs": [],
   "source": [
    "df2['Sum'] = abs(df2['INCOUNT'] + df2['OUTCOUNT']).round()"
   ]
  },
  {
   "cell_type": "code",
   "execution_count": 290,
   "id": "2791e61a",
   "metadata": {},
   "outputs": [],
   "source": [
    "Df2 = df2.loc[:,['Sum']]"
   ]
  },
  {
   "cell_type": "code",
   "execution_count": 291,
   "id": "1aa025c5",
   "metadata": {},
   "outputs": [],
   "source": [
    "list1 = ['월', '화', '수', '목', '금', '토', '일']\n",
    "\n",
    "Df2 = Df2.loc[list1]"
   ]
  },
  {
   "cell_type": "code",
   "execution_count": 292,
   "id": "015b7abd",
   "metadata": {},
   "outputs": [
    {
     "data": {
      "text/html": [
       "<div>\n",
       "<style scoped>\n",
       "    .dataframe tbody tr th:only-of-type {\n",
       "        vertical-align: middle;\n",
       "    }\n",
       "\n",
       "    .dataframe tbody tr th {\n",
       "        vertical-align: top;\n",
       "    }\n",
       "\n",
       "    .dataframe thead th {\n",
       "        text-align: right;\n",
       "    }\n",
       "</style>\n",
       "<table border=\"1\" class=\"dataframe\">\n",
       "  <thead>\n",
       "    <tr style=\"text-align: right;\">\n",
       "      <th></th>\n",
       "      <th>Sum</th>\n",
       "    </tr>\n",
       "    <tr>\n",
       "      <th>요일</th>\n",
       "      <th></th>\n",
       "    </tr>\n",
       "  </thead>\n",
       "  <tbody>\n",
       "    <tr>\n",
       "      <th>월</th>\n",
       "      <td>31568169.0</td>\n",
       "    </tr>\n",
       "    <tr>\n",
       "      <th>화</th>\n",
       "      <td>30756699.0</td>\n",
       "    </tr>\n",
       "    <tr>\n",
       "      <th>수</th>\n",
       "      <td>31936730.0</td>\n",
       "    </tr>\n",
       "    <tr>\n",
       "      <th>목</th>\n",
       "      <td>35233503.0</td>\n",
       "    </tr>\n",
       "    <tr>\n",
       "      <th>금</th>\n",
       "      <td>35943699.0</td>\n",
       "    </tr>\n",
       "    <tr>\n",
       "      <th>토</th>\n",
       "      <td>29451524.0</td>\n",
       "    </tr>\n",
       "    <tr>\n",
       "      <th>일</th>\n",
       "      <td>26873669.0</td>\n",
       "    </tr>\n",
       "  </tbody>\n",
       "</table>\n",
       "</div>"
      ],
      "text/plain": [
       "           Sum\n",
       "요일            \n",
       "월   31568169.0\n",
       "화   30756699.0\n",
       "수   31936730.0\n",
       "목   35233503.0\n",
       "금   35943699.0\n",
       "토   29451524.0\n",
       "일   26873669.0"
      ]
     },
     "execution_count": 292,
     "metadata": {},
     "output_type": "execute_result"
    }
   ],
   "source": [
    "Df2"
   ]
  },
  {
   "cell_type": "code",
   "execution_count": 293,
   "id": "f1d7795b",
   "metadata": {
    "scrolled": true
   },
   "outputs": [
    {
     "data": {
      "text/plain": [
       "<AxesSubplot:xlabel='요일'>"
      ]
     },
     "execution_count": 293,
     "metadata": {},
     "output_type": "execute_result"
    },
    {
     "data": {
      "image/png": "[encoded data removed]",
      "text/plain": [
       "<Figure size 432x288 with 1 Axes>"
      ]
     },
     "metadata": {
      "needs_background": "light"
     },
     "output_type": "display_data"
    }
   ],
   "source": [
    "Df2.plot.bar()"
   ]
  },
  {
   "cell_type": "markdown",
   "id": "451219a5",
   "metadata": {},
   "source": [
    "# 3. 시간별 유동인구"
   ]
  },
  {
   "cell_type": "code",
   "execution_count": 294,
   "id": "2577d46c",
   "metadata": {},
   "outputs": [],
   "source": [
    "df['Hour'] = df['Date']"
   ]
  },
  {
   "cell_type": "code",
   "execution_count": 295,
   "id": "96a73e3d",
   "metadata": {},
   "outputs": [
    {
     "name": "stderr",
     "output_type": "stream",
     "text": [
      "C:\\Users\\User\\AppData\\Local\\Temp\\ipykernel_32344\\1977737670.py:1: FutureWarning: Indexing with multiple keys (implicitly converted to a tuple of keys) will be deprecated, use a list instead.\n",
      "  df3 = pd.DataFrame(df.groupby(['Hour'])['INCOUNT','OUTCOUNT'].sum().round())\n"
     ]
    }
   ],
   "source": [
    "df3 = pd.DataFrame(df.groupby(['Hour'])['INCOUNT','OUTCOUNT'].sum().round())"
   ]
  },
  {
   "cell_type": "code",
   "execution_count": 296,
   "id": "02fb6119",
   "metadata": {},
   "outputs": [],
   "source": [
    "df3['Sum'] = df3['INCOUNT'] + df3['OUTCOUNT']"
   ]
  },
  {
   "cell_type": "code",
   "execution_count": 297,
   "id": "4dbff147",
   "metadata": {
    "scrolled": false
   },
   "outputs": [
    {
     "data": {
      "text/html": [
       "<div>\n",
       "<style scoped>\n",
       "    .dataframe tbody tr th:only-of-type {\n",
       "        vertical-align: middle;\n",
       "    }\n",
       "\n",
       "    .dataframe tbody tr th {\n",
       "        vertical-align: top;\n",
       "    }\n",
       "\n",
       "    .dataframe thead th {\n",
       "        text-align: right;\n",
       "    }\n",
       "</style>\n",
       "<table border=\"1\" class=\"dataframe\">\n",
       "  <thead>\n",
       "    <tr style=\"text-align: right;\">\n",
       "      <th></th>\n",
       "      <th>INCOUNT</th>\n",
       "      <th>OUTCOUNT</th>\n",
       "      <th>Sum</th>\n",
       "    </tr>\n",
       "    <tr>\n",
       "      <th>Hour</th>\n",
       "      <th></th>\n",
       "      <th></th>\n",
       "      <th></th>\n",
       "    </tr>\n",
       "  </thead>\n",
       "  <tbody>\n",
       "    <tr>\n",
       "      <th>00</th>\n",
       "      <td>45256.0</td>\n",
       "      <td>51977.0</td>\n",
       "      <td>97233.0</td>\n",
       "    </tr>\n",
       "    <tr>\n",
       "      <th>01</th>\n",
       "      <td>104875.0</td>\n",
       "      <td>129749.0</td>\n",
       "      <td>234624.0</td>\n",
       "    </tr>\n",
       "    <tr>\n",
       "      <th>02</th>\n",
       "      <td>151429.0</td>\n",
       "      <td>206078.0</td>\n",
       "      <td>357507.0</td>\n",
       "    </tr>\n",
       "    <tr>\n",
       "      <th>03</th>\n",
       "      <td>189440.0</td>\n",
       "      <td>275493.0</td>\n",
       "      <td>464933.0</td>\n",
       "    </tr>\n",
       "    <tr>\n",
       "      <th>04</th>\n",
       "      <td>230607.0</td>\n",
       "      <td>350658.0</td>\n",
       "      <td>581265.0</td>\n",
       "    </tr>\n",
       "    <tr>\n",
       "      <th>05</th>\n",
       "      <td>289265.0</td>\n",
       "      <td>448102.0</td>\n",
       "      <td>737367.0</td>\n",
       "    </tr>\n",
       "    <tr>\n",
       "      <th>06</th>\n",
       "      <td>379662.0</td>\n",
       "      <td>566922.0</td>\n",
       "      <td>946584.0</td>\n",
       "    </tr>\n",
       "    <tr>\n",
       "      <th>07</th>\n",
       "      <td>721789.0</td>\n",
       "      <td>854376.0</td>\n",
       "      <td>1576165.0</td>\n",
       "    </tr>\n",
       "    <tr>\n",
       "      <th>08</th>\n",
       "      <td>1397797.0</td>\n",
       "      <td>1406150.0</td>\n",
       "      <td>2803947.0</td>\n",
       "    </tr>\n",
       "    <tr>\n",
       "      <th>09</th>\n",
       "      <td>1947254.0</td>\n",
       "      <td>1981347.0</td>\n",
       "      <td>3928601.0</td>\n",
       "    </tr>\n",
       "    <tr>\n",
       "      <th>10</th>\n",
       "      <td>2498582.0</td>\n",
       "      <td>2545704.0</td>\n",
       "      <td>5044286.0</td>\n",
       "    </tr>\n",
       "    <tr>\n",
       "      <th>11</th>\n",
       "      <td>3157268.0</td>\n",
       "      <td>3206243.0</td>\n",
       "      <td>6363511.0</td>\n",
       "    </tr>\n",
       "    <tr>\n",
       "      <th>12</th>\n",
       "      <td>4133927.0</td>\n",
       "      <td>4126838.0</td>\n",
       "      <td>8260765.0</td>\n",
       "    </tr>\n",
       "    <tr>\n",
       "      <th>13</th>\n",
       "      <td>5101555.0</td>\n",
       "      <td>5171437.0</td>\n",
       "      <td>10272992.0</td>\n",
       "    </tr>\n",
       "    <tr>\n",
       "      <th>14</th>\n",
       "      <td>5981117.0</td>\n",
       "      <td>6103518.0</td>\n",
       "      <td>12084635.0</td>\n",
       "    </tr>\n",
       "    <tr>\n",
       "      <th>15</th>\n",
       "      <td>6812576.0</td>\n",
       "      <td>7069216.0</td>\n",
       "      <td>13881792.0</td>\n",
       "    </tr>\n",
       "    <tr>\n",
       "      <th>16</th>\n",
       "      <td>7603360.0</td>\n",
       "      <td>8135000.0</td>\n",
       "      <td>15738360.0</td>\n",
       "    </tr>\n",
       "    <tr>\n",
       "      <th>17</th>\n",
       "      <td>8358418.0</td>\n",
       "      <td>9117776.0</td>\n",
       "      <td>17476194.0</td>\n",
       "    </tr>\n",
       "    <tr>\n",
       "      <th>18</th>\n",
       "      <td>9003007.0</td>\n",
       "      <td>9927752.0</td>\n",
       "      <td>18930759.0</td>\n",
       "    </tr>\n",
       "    <tr>\n",
       "      <th>19</th>\n",
       "      <td>9516465.0</td>\n",
       "      <td>10515662.0</td>\n",
       "      <td>20032127.0</td>\n",
       "    </tr>\n",
       "    <tr>\n",
       "      <th>20</th>\n",
       "      <td>9799556.0</td>\n",
       "      <td>10896334.0</td>\n",
       "      <td>20695890.0</td>\n",
       "    </tr>\n",
       "    <tr>\n",
       "      <th>21</th>\n",
       "      <td>10027066.0</td>\n",
       "      <td>11231174.0</td>\n",
       "      <td>21258240.0</td>\n",
       "    </tr>\n",
       "    <tr>\n",
       "      <th>22</th>\n",
       "      <td>10215830.0</td>\n",
       "      <td>11480739.0</td>\n",
       "      <td>21696569.0</td>\n",
       "    </tr>\n",
       "    <tr>\n",
       "      <th>23</th>\n",
       "      <td>8611280.0</td>\n",
       "      <td>9688367.0</td>\n",
       "      <td>18299647.0</td>\n",
       "    </tr>\n",
       "  </tbody>\n",
       "</table>\n",
       "</div>"
      ],
      "text/plain": [
       "         INCOUNT    OUTCOUNT         Sum\n",
       "Hour                                    \n",
       "00       45256.0     51977.0     97233.0\n",
       "01      104875.0    129749.0    234624.0\n",
       "02      151429.0    206078.0    357507.0\n",
       "03      189440.0    275493.0    464933.0\n",
       "04      230607.0    350658.0    581265.0\n",
       "05      289265.0    448102.0    737367.0\n",
       "06      379662.0    566922.0    946584.0\n",
       "07      721789.0    854376.0   1576165.0\n",
       "08     1397797.0   1406150.0   2803947.0\n",
       "09     1947254.0   1981347.0   3928601.0\n",
       "10     2498582.0   2545704.0   5044286.0\n",
       "11     3157268.0   3206243.0   6363511.0\n",
       "12     4133927.0   4126838.0   8260765.0\n",
       "13     5101555.0   5171437.0  10272992.0\n",
       "14     5981117.0   6103518.0  12084635.0\n",
       "15     6812576.0   7069216.0  13881792.0\n",
       "16     7603360.0   8135000.0  15738360.0\n",
       "17     8358418.0   9117776.0  17476194.0\n",
       "18     9003007.0   9927752.0  18930759.0\n",
       "19     9516465.0  10515662.0  20032127.0\n",
       "20     9799556.0  10896334.0  20695890.0\n",
       "21    10027066.0  11231174.0  21258240.0\n",
       "22    10215830.0  11480739.0  21696569.0\n",
       "23     8611280.0   9688367.0  18299647.0"
      ]
     },
     "execution_count": 297,
     "metadata": {},
     "output_type": "execute_result"
    }
   ],
   "source": [
    "df3"
   ]
  },
  {
   "cell_type": "code",
   "execution_count": 298,
   "id": "7d97d4a4",
   "metadata": {},
   "outputs": [],
   "source": [
    "Df3 = df3.loc[:,['Sum']]"
   ]
  },
  {
   "cell_type": "code",
   "execution_count": 299,
   "id": "c07990b0",
   "metadata": {},
   "outputs": [
    {
     "data": {
      "text/html": [
       "<div>\n",
       "<style scoped>\n",
       "    .dataframe tbody tr th:only-of-type {\n",
       "        vertical-align: middle;\n",
       "    }\n",
       "\n",
       "    .dataframe tbody tr th {\n",
       "        vertical-align: top;\n",
       "    }\n",
       "\n",
       "    .dataframe thead th {\n",
       "        text-align: right;\n",
       "    }\n",
       "</style>\n",
       "<table border=\"1\" class=\"dataframe\">\n",
       "  <thead>\n",
       "    <tr style=\"text-align: right;\">\n",
       "      <th></th>\n",
       "      <th>Sum</th>\n",
       "    </tr>\n",
       "    <tr>\n",
       "      <th>Hour</th>\n",
       "      <th></th>\n",
       "    </tr>\n",
       "  </thead>\n",
       "  <tbody>\n",
       "    <tr>\n",
       "      <th>00</th>\n",
       "      <td>97233.0</td>\n",
       "    </tr>\n",
       "    <tr>\n",
       "      <th>01</th>\n",
       "      <td>234624.0</td>\n",
       "    </tr>\n",
       "    <tr>\n",
       "      <th>02</th>\n",
       "      <td>357507.0</td>\n",
       "    </tr>\n",
       "    <tr>\n",
       "      <th>03</th>\n",
       "      <td>464933.0</td>\n",
       "    </tr>\n",
       "    <tr>\n",
       "      <th>04</th>\n",
       "      <td>581265.0</td>\n",
       "    </tr>\n",
       "    <tr>\n",
       "      <th>05</th>\n",
       "      <td>737367.0</td>\n",
       "    </tr>\n",
       "    <tr>\n",
       "      <th>06</th>\n",
       "      <td>946584.0</td>\n",
       "    </tr>\n",
       "    <tr>\n",
       "      <th>07</th>\n",
       "      <td>1576165.0</td>\n",
       "    </tr>\n",
       "    <tr>\n",
       "      <th>08</th>\n",
       "      <td>2803947.0</td>\n",
       "    </tr>\n",
       "    <tr>\n",
       "      <th>09</th>\n",
       "      <td>3928601.0</td>\n",
       "    </tr>\n",
       "    <tr>\n",
       "      <th>10</th>\n",
       "      <td>5044286.0</td>\n",
       "    </tr>\n",
       "    <tr>\n",
       "      <th>11</th>\n",
       "      <td>6363511.0</td>\n",
       "    </tr>\n",
       "    <tr>\n",
       "      <th>12</th>\n",
       "      <td>8260765.0</td>\n",
       "    </tr>\n",
       "    <tr>\n",
       "      <th>13</th>\n",
       "      <td>10272992.0</td>\n",
       "    </tr>\n",
       "    <tr>\n",
       "      <th>14</th>\n",
       "      <td>12084635.0</td>\n",
       "    </tr>\n",
       "    <tr>\n",
       "      <th>15</th>\n",
       "      <td>13881792.0</td>\n",
       "    </tr>\n",
       "    <tr>\n",
       "      <th>16</th>\n",
       "      <td>15738360.0</td>\n",
       "    </tr>\n",
       "    <tr>\n",
       "      <th>17</th>\n",
       "      <td>17476194.0</td>\n",
       "    </tr>\n",
       "    <tr>\n",
       "      <th>18</th>\n",
       "      <td>18930759.0</td>\n",
       "    </tr>\n",
       "    <tr>\n",
       "      <th>19</th>\n",
       "      <td>20032127.0</td>\n",
       "    </tr>\n",
       "    <tr>\n",
       "      <th>20</th>\n",
       "      <td>20695890.0</td>\n",
       "    </tr>\n",
       "    <tr>\n",
       "      <th>21</th>\n",
       "      <td>21258240.0</td>\n",
       "    </tr>\n",
       "    <tr>\n",
       "      <th>22</th>\n",
       "      <td>21696569.0</td>\n",
       "    </tr>\n",
       "    <tr>\n",
       "      <th>23</th>\n",
       "      <td>18299647.0</td>\n",
       "    </tr>\n",
       "  </tbody>\n",
       "</table>\n",
       "</div>"
      ],
      "text/plain": [
       "             Sum\n",
       "Hour            \n",
       "00       97233.0\n",
       "01      234624.0\n",
       "02      357507.0\n",
       "03      464933.0\n",
       "04      581265.0\n",
       "05      737367.0\n",
       "06      946584.0\n",
       "07     1576165.0\n",
       "08     2803947.0\n",
       "09     3928601.0\n",
       "10     5044286.0\n",
       "11     6363511.0\n",
       "12     8260765.0\n",
       "13    10272992.0\n",
       "14    12084635.0\n",
       "15    13881792.0\n",
       "16    15738360.0\n",
       "17    17476194.0\n",
       "18    18930759.0\n",
       "19    20032127.0\n",
       "20    20695890.0\n",
       "21    21258240.0\n",
       "22    21696569.0\n",
       "23    18299647.0"
      ]
     },
     "execution_count": 299,
     "metadata": {},
     "output_type": "execute_result"
    }
   ],
   "source": [
    "Df3"
   ]
  },
  {
   "cell_type": "code",
   "execution_count": 300,
   "id": "36f54d92",
   "metadata": {},
   "outputs": [
    {
     "data": {
      "text/plain": [
       "<AxesSubplot:xlabel='Hour'>"
      ]
     },
     "execution_count": 300,
     "metadata": {},
     "output_type": "execute_result"
    },
    {
     "data": {
      "image/png": "[encoded data removed]",
      "text/plain": [
       "<Figure size 432x288 with 1 Axes>"
      ]
     },
     "metadata": {
      "needs_background": "light"
     },
     "output_type": "display_data"
    }
   ],
   "source": [
    "Df3.plot.bar()"
   ]
  }
 ],
 "metadata": {
  "kernelspec": {
   "display_name": "Python 3 (ipykernel)",
   "language": "python",
   "name": "python3"
  },
  "language_info": {
   "codemirror_mode": {
    "name": "ipython",
    "version": 3
   },
   "file_extension": ".py",
   "mimetype": "text/x-python",
   "name": "python",
   "nbconvert_exporter": "python",
   "pygments_lexer": "ipython3",
   "version": "3.9.12"
  }
 },
 "nbformat": 4,
 "nbformat_minor": 5
}
