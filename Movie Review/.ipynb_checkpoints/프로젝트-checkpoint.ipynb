{
 "cells": [
  {
   "cell_type": "code",
   "execution_count": 13,
   "id": "30bb4b37",
   "metadata": {},
   "outputs": [],
   "source": [
    "import pandas as pd\n",
    "from tqdm import tqdm\n",
    "import os\n",
    "from konlpy.tag import Okt\n",
    "from sklearn.feature_extraction.text import TfidfVectorizer\n",
    "from sklearn.decomposition import LatentDirichletAllocation\n",
    "from sklearn.linear_model import LogisticRegression\n",
    "\n",
    "tfid = TfidfVectorizer()\n",
    "okt = Okt()"
   ]
  },
  {
   "cell_type": "markdown",
   "id": "76b321ff",
   "metadata": {},
   "source": [
    "# 학습 데이터"
   ]
  },
  {
   "cell_type": "code",
   "execution_count": 14,
   "id": "5f2eeb32",
   "metadata": {},
   "outputs": [],
   "source": [
    "data = pd.read_csv(os.path.join(\"./data\", 'review.txt'), sep='\\t')"
   ]
  },
  {
   "cell_type": "code",
   "execution_count": 15,
   "id": "88c6e441",
   "metadata": {},
   "outputs": [],
   "source": [
    "review_data = data['document'].dropna().values\n",
    "\n",
    "review_data = review_data[:5000]"
   ]
  },
  {
   "cell_type": "code",
   "execution_count": 16,
   "id": "a51d4120",
   "metadata": {},
   "outputs": [
    {
     "name": "stderr",
     "output_type": "stream",
     "text": [
      "100%|█████████████████████████████████████████████████████████████████████████████| 5000/5000 [00:11<00:00, 447.13it/s]\n"
     ]
    }
   ],
   "source": [
    "cleaned_review_data = []\n",
    "\n",
    "for review in tqdm(review_data):\n",
    "    tokens = okt.nouns(review)\n",
    "    cleaned_tokens = []\n",
    "    for word in tokens:\n",
    "        if len(word) > 1:\n",
    "            cleaned_tokens.append(word)\n",
    "        else:\n",
    "            pass\n",
    "    cleaned_review = \" \".join(cleaned_tokens)\n",
    "    cleaned_review_data.append(cleaned_review)"
   ]
  },
  {
   "cell_type": "code",
   "execution_count": 17,
   "id": "c57ff139",
   "metadata": {},
   "outputs": [],
   "source": [
    "review_tfid = tfid.fit_transform(cleaned_review_data)"
   ]
  },
  {
   "cell_type": "code",
   "execution_count": 18,
   "id": "5f895002",
   "metadata": {},
   "outputs": [
    {
     "data": {
      "text/plain": [
       "LatentDirichletAllocation(n_components=2)"
      ]
     },
     "execution_count": 18,
     "metadata": {},
     "output_type": "execute_result"
    }
   ],
   "source": [
    "lda = LatentDirichletAllocation(n_components=2)  \n",
    "\n",
    "lda.fit(review_tfid)"
   ]
  },
  {
   "cell_type": "code",
   "execution_count": 19,
   "id": "7627858d",
   "metadata": {},
   "outputs": [],
   "source": [
    "labels = data['label'].iloc[:5000].values"
   ]
  },
  {
   "cell_type": "code",
   "execution_count": 20,
   "id": "c6e2272b",
   "metadata": {},
   "outputs": [
    {
     "data": {
      "text/plain": [
       "LogisticRegression()"
      ]
     },
     "execution_count": 20,
     "metadata": {},
     "output_type": "execute_result"
    }
   ],
   "source": [
    "lr = LogisticRegression()\n",
    "\n",
    "lr.fit(review_tfid, labels)"
   ]
  },
  {
   "cell_type": "markdown",
   "id": "ab9b0563",
   "metadata": {},
   "source": [
    "# 크롤링 데이터"
   ]
  },
  {
   "cell_type": "code",
   "execution_count": 30,
   "id": "ee17c186",
   "metadata": {
    "scrolled": true
   },
   "outputs": [
    {
     "name": "stderr",
     "output_type": "stream",
     "text": [
      "100%|██████████████████████████████████████████████████████████████████████████████████| 80/80 [00:03<00:00, 24.27it/s]\n"
     ]
    }
   ],
   "source": [
    "df = pd.read_csv(\"naver_review.csv\")\n",
    "\n",
    "sample = df['review'].iloc[:len(df)]\n",
    "\n",
    "cleaned_check_review_data = []\n",
    "\n",
    "for review in tqdm(sample):\n",
    "    tokens = okt.nouns(review)\n",
    "    cleaned_tokens = []\n",
    "    for word in tokens:\n",
    "        if len(word) > 1:\n",
    "            cleaned_tokens.append(word)\n",
    "        else:\n",
    "            pass\n",
    "    cleaned_check_review = \" \".join(cleaned_tokens)\n",
    "    \n",
    "    cleaned_check_review_data.append(cleaned_check_review)\n",
    "    \n"
   ]
  },
  {
   "cell_type": "code",
   "execution_count": 31,
   "id": "b9816386",
   "metadata": {},
   "outputs": [],
   "source": [
    "positive = 0\n",
    "negative = 0\n",
    "\n",
    "for i in range(len(cleaned_check_review_data)):\n",
    "    test_review_tfid = tfid.transform(cleaned_check_review_data)\n",
    "    test_pred = lr.predict(test_review_tfid)[i]\n",
    "    if test_pred > 0 :\n",
    "        positive += 1 \n",
    "    else:\n",
    "        negative += 1\n"
   ]
  },
  {
   "cell_type": "code",
   "execution_count": 32,
   "id": "f24bdf35",
   "metadata": {},
   "outputs": [
    {
     "name": "stdout",
     "output_type": "stream",
     "text": [
      "분석 결과 부정적인 리뷰로 예측됩니다. \n"
     ]
    }
   ],
   "source": [
    "print(\"분석 결과 {}적인 리뷰로 예측됩니다. \".format(\"긍정\" if positive > negative else \"부정\"))"
   ]
  },
  {
   "cell_type": "code",
   "execution_count": 33,
   "id": "c22f5bdd",
   "metadata": {
    "scrolled": true
   },
   "outputs": [
    {
     "name": "stdout",
     "output_type": "stream",
     "text": [
      "25\n",
      "55\n"
     ]
    }
   ],
   "source": [
    "print(positive)\n",
    "print(negative)"
   ]
  },
  {
   "cell_type": "code",
   "execution_count": 34,
   "id": "5320e093",
   "metadata": {},
   "outputs": [
    {
     "data": {
      "text/html": [
       "<div>\n",
       "<style scoped>\n",
       "    .dataframe tbody tr th:only-of-type {\n",
       "        vertical-align: middle;\n",
       "    }\n",
       "\n",
       "    .dataframe tbody tr th {\n",
       "        vertical-align: top;\n",
       "    }\n",
       "\n",
       "    .dataframe thead th {\n",
       "        text-align: right;\n",
       "    }\n",
       "</style>\n",
       "<table border=\"1\" class=\"dataframe\">\n",
       "  <thead>\n",
       "    <tr style=\"text-align: right;\">\n",
       "      <th></th>\n",
       "      <th>Unnamed: 0</th>\n",
       "      <th>육사오(6/45) : 네이버 영화</th>\n",
       "      <th>user</th>\n",
       "      <th>review</th>\n",
       "    </tr>\n",
       "  </thead>\n",
       "  <tbody>\n",
       "    <tr>\n",
       "      <th>0</th>\n",
       "      <td>0</td>\n",
       "      <td>윈도우11  아직은 ㅜㅜ</td>\n",
       "      <td>cowb****</td>\n",
       "      <td>\\n안녕하세요 저는   경기도화성시 에 살고있는  남자입니다 저는 평범한  사내 이...</td>\n",
       "    </tr>\n",
       "    <tr>\n",
       "      <th>1</th>\n",
       "      <td>1</td>\n",
       "      <td>윈도우1122 H2  출시 입박</td>\n",
       "      <td>cowb****</td>\n",
       "      <td>\\n안녕하세요   저  컴퓨터  윈도우 11  사용 중인데 저는 아직은 아닌 것  ...</td>\n",
       "    </tr>\n",
       "    <tr>\n",
       "      <th>2</th>\n",
       "      <td>2</td>\n",
       "      <td>[영화감상] 육사오 (6/45)</td>\n",
       "      <td>sakg****</td>\n",
       "      <td>\\n요즘 '블로그'를 잘 못하고 있습니다..이것도 3일만에 올린건데....이유는 바...</td>\n",
       "    </tr>\n",
       "    <tr>\n",
       "      <th>3</th>\n",
       "      <td>3</td>\n",
       "      <td>2022.10. 육사오</td>\n",
       "      <td>aesi****</td>\n",
       "      <td>\\n\\n\\n\\n\\n\\n\\n\\n\\n육사오(6/45)\\n\\n감독\\n박규태\\n출연\\n고경...</td>\n",
       "    </tr>\n",
       "    <tr>\n",
       "      <th>4</th>\n",
       "      <td>4</td>\n",
       "      <td>&lt;영화리뷰&gt;육사오(6/45)-2022.09.13.화</td>\n",
       "      <td>ree_****</td>\n",
       "      <td>\\n&lt;영화리뷰&gt;육사오(6/45)-2022.09.13.화요즘 나무는영화보기에 맛?들린...</td>\n",
       "    </tr>\n",
       "    <tr>\n",
       "      <th>...</th>\n",
       "      <td>...</td>\n",
       "      <td>...</td>\n",
       "      <td>...</td>\n",
       "      <td>...</td>\n",
       "    </tr>\n",
       "    <tr>\n",
       "      <th>75</th>\n",
       "      <td>75</td>\n",
       "      <td>2022년 10월 5일(水) / 박규태 감독의 《육사오(6/45)》</td>\n",
       "      <td>kimg****</td>\n",
       "      <td>\\n억지 웃음을 강요하는 영화, 잘 봤습니다. MBC의 〈출발! 비디오 여행〉, K...</td>\n",
       "    </tr>\n",
       "    <tr>\n",
       "      <th>76</th>\n",
       "      <td>76</td>\n",
       "      <td>[8.31~9.4 국내 박스오피스] 육사오, 돌풍의 힘을 보여주다</td>\n",
       "      <td>sch0****</td>\n",
       "      <td>\\n\\n\\n\\n육사오(6/45)\\n\\n감독\\n박규태\\n출연\\n고경표, 이이경, 음문...</td>\n",
       "    </tr>\n",
       "    <tr>\n",
       "      <th>77</th>\n",
       "      <td>77</td>\n",
       "      <td>한국 영화 육사오(6/45) 2022</td>\n",
       "      <td>park****</td>\n",
       "      <td>\\n 아오랜만에 생각없이 빵빵 웃었네 ㅋㅋㅋㅋ이런 영화좀 많이 만들어 줬으면 좋겠다...</td>\n",
       "    </tr>\n",
       "    <tr>\n",
       "      <th>78</th>\n",
       "      <td>78</td>\n",
       "      <td>아무 생각 없이 부담 없이 즐겁게 보는 재밌는 영화 &lt;육사오&gt;</td>\n",
       "      <td>bund****</td>\n",
       "      <td>\\n육사오(6/45) . 2022사실 로또'를 주제로 만들 수 있는 영화 소재들은 ...</td>\n",
       "    </tr>\n",
       "    <tr>\n",
       "      <th>79</th>\n",
       "      <td>79</td>\n",
       "      <td>'육사오' 손익분기점 160만 관객 돌파…장기 흥행 예고</td>\n",
       "      <td>bund****</td>\n",
       "      <td>\\n © 뉴스1  영화 '육사오(6/45)' 포스터(서울=뉴스1) 안태현 기자 = ...</td>\n",
       "    </tr>\n",
       "  </tbody>\n",
       "</table>\n",
       "<p>80 rows × 4 columns</p>\n",
       "</div>"
      ],
      "text/plain": [
       "    Unnamed: 0                     육사오(6/45) : 네이버 영화      user  \\\n",
       "0            0                          윈도우11  아직은 ㅜㅜ  cowb****   \n",
       "1            1                      윈도우1122 H2  출시 입박  cowb****   \n",
       "2            2                      [영화감상] 육사오 (6/45)  sakg****   \n",
       "3            3                           2022.10. 육사오  aesi****   \n",
       "4            4           <영화리뷰>육사오(6/45)-2022.09.13.화  ree_****   \n",
       "..         ...                                    ...       ...   \n",
       "75          75  2022년 10월 5일(水) / 박규태 감독의 《육사오(6/45)》  kimg****   \n",
       "76          76  [8.31~9.4 국내 박스오피스] 육사오, 돌풍의 힘을 보여주다   sch0****   \n",
       "77          77                   한국 영화 육사오(6/45) 2022  park****   \n",
       "78          78     아무 생각 없이 부담 없이 즐겁게 보는 재밌는 영화 <육사오>  bund****   \n",
       "79          79       '육사오' 손익분기점 160만 관객 돌파…장기 흥행 예고   bund****   \n",
       "\n",
       "                                               review  \n",
       "0   \\n안녕하세요 저는   경기도화성시 에 살고있는  남자입니다 저는 평범한  사내 이...  \n",
       "1   \\n안녕하세요   저  컴퓨터  윈도우 11  사용 중인데 저는 아직은 아닌 것  ...  \n",
       "2   \\n요즘 '블로그'를 잘 못하고 있습니다..이것도 3일만에 올린건데....이유는 바...  \n",
       "3   \\n\\n\\n\\n\\n\\n\\n\\n\\n육사오(6/45)\\n\\n감독\\n박규태\\n출연\\n고경...  \n",
       "4   \\n<영화리뷰>육사오(6/45)-2022.09.13.화요즘 나무는영화보기에 맛?들린...  \n",
       "..                                                ...  \n",
       "75  \\n억지 웃음을 강요하는 영화, 잘 봤습니다. MBC의 〈출발! 비디오 여행〉, K...  \n",
       "76  \\n\\n\\n\\n육사오(6/45)\\n\\n감독\\n박규태\\n출연\\n고경표, 이이경, 음문...  \n",
       "77  \\n 아오랜만에 생각없이 빵빵 웃었네 ㅋㅋㅋㅋ이런 영화좀 많이 만들어 줬으면 좋겠다...  \n",
       "78  \\n육사오(6/45) . 2022사실 로또'를 주제로 만들 수 있는 영화 소재들은 ...  \n",
       "79  \\n © 뉴스1  영화 '육사오(6/45)' 포스터(서울=뉴스1) 안태현 기자 = ...  \n",
       "\n",
       "[80 rows x 4 columns]"
      ]
     },
     "execution_count": 34,
     "metadata": {},
     "output_type": "execute_result"
    }
   ],
   "source": [
    "df"
   ]
  }
 ],
 "metadata": {
  "kernelspec": {
   "display_name": "Python 3 (ipykernel)",
   "language": "python",
   "name": "python3"
  },
  "language_info": {
   "codemirror_mode": {
    "name": "ipython",
    "version": 3
   },
   "file_extension": ".py",
   "mimetype": "text/x-python",
   "name": "python",
   "nbconvert_exporter": "python",
   "pygments_lexer": "ipython3",
   "version": "3.9.12"
  }
 },
 "nbformat": 4,
 "nbformat_minor": 5
}
