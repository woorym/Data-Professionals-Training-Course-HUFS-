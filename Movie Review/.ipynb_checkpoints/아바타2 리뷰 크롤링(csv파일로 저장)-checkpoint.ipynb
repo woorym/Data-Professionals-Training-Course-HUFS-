{
 "cells": [
  {
   "cell_type": "code",
   "execution_count": 1,
   "id": "facd49e6",
   "metadata": {},
   "outputs": [],
   "source": [
    "import pandas as pd\n",
    "import numpy as np\n",
    "import requests\n",
    "import matplotlib.pyplot as plt\n",
    "import seaborn as sns\n",
    "import time\n",
    "import re\n",
    "\n",
    "from bs4 import BeautifulSoup\n"
   ]
  },
  {
   "cell_type": "code",
   "execution_count": 2,
   "id": "acbc6052",
   "metadata": {},
   "outputs": [],
   "source": [
    "title_list = []\n",
    "uid_list = []\n",
    "url_list = []\n",
    "\n",
    "\n",
    "for i in range(1, 9):\n",
    "    url = f'https://movie.naver.com/movie/bi/mi/review.naver?code=204640&page={i}'\n",
    "    \n",
    "    resp = requests.get(url)\n",
    "    soup = BeautifulSoup(resp.text, 'html.parser')\n",
    "    \n",
    "    review_text_tag = soup.find(name = 'ul', attrs = {'class':'rvw_list_area'})\n",
    "    review_text_tags = review_text_tag.find_all('li')\n",
    "    \n",
    "    \n",
    "    for li_tag in review_text_tags:\n",
    "        review_title = li_tag.find_all('a')[0].get_text()\n",
    "        title_list.append(review_title)\n",
    "    \n",
    "        review_uid = li_tag.find_all('a')[1].get_text()\n",
    "        uid_list.append(review_uid)\n",
    "    \n",
    "        review_nid = re.findall('\\d{7}', li_tag.find('a').get('onclick'))[0]\n",
    "        review_url = f'https://movie.naver.com/movie/bi/mi/reviewread.naver?nid={review_nid}&code=204640&order=#tab'\n",
    "    \n",
    "        url_list.append(review_url)\n",
    "    \n",
    "        time.sleep(2)"
   ]
  },
  {
   "cell_type": "code",
   "execution_count": 3,
   "id": "ac110b4e",
   "metadata": {},
   "outputs": [
    {
     "name": "stdout",
     "output_type": "stream",
     "text": [
      "80\n"
     ]
    }
   ],
   "source": [
    "print(len(title_list))"
   ]
  },
  {
   "cell_type": "code",
   "execution_count": 4,
   "id": "101d591f",
   "metadata": {},
   "outputs": [],
   "source": [
    "text_list = []\n",
    "\n",
    "for url in url_list:\n",
    "\n",
    "    resp_text = requests.get(url, headers={'User-agent': 'agent'})\n",
    "    soup_text = BeautifulSoup(resp_text.text, 'html.parser')\n",
    "\n",
    "    review_text_tag = soup_text.find(name='div', attrs={'class':'user_tx_area'})\n",
    "\n",
    "    review_text = review_text_tag.get_text()\n",
    "    text_list.append(review_text)\n",
    "    \n",
    "    time.sleep(2)"
   ]
  },
  {
   "cell_type": "code",
   "execution_count": 5,
   "id": "8902b7f6",
   "metadata": {},
   "outputs": [],
   "source": [
    "title_tag = soup.find(name='title')\n",
    "\n",
    "title_text = title_tag.get_text()\n"
   ]
  },
  {
   "cell_type": "code",
   "execution_count": 6,
   "id": "922130b8",
   "metadata": {},
   "outputs": [],
   "source": [
    "dict_data = {\n",
    "    title_text : title_list,\n",
    "    'user' : uid_list,\n",
    "    'review' : text_list\n",
    "}\n",
    "\n",
    "df_data = pd.DataFrame(dict_data)"
   ]
  },
  {
   "cell_type": "code",
   "execution_count": 14,
   "id": "b3e0ee95",
   "metadata": {},
   "outputs": [
    {
     "data": {
      "text/html": [
       "<div>\n",
       "<style scoped>\n",
       "    .dataframe tbody tr th:only-of-type {\n",
       "        vertical-align: middle;\n",
       "    }\n",
       "\n",
       "    .dataframe tbody tr th {\n",
       "        vertical-align: top;\n",
       "    }\n",
       "\n",
       "    .dataframe thead th {\n",
       "        text-align: right;\n",
       "    }\n",
       "</style>\n",
       "<table border=\"1\" class=\"dataframe\">\n",
       "  <thead>\n",
       "    <tr style=\"text-align: right;\">\n",
       "      <th></th>\n",
       "      <th>육사오(6/45) : 네이버 영화</th>\n",
       "      <th>user</th>\n",
       "      <th>review</th>\n",
       "    </tr>\n",
       "  </thead>\n",
       "  <tbody>\n",
       "    <tr>\n",
       "      <th>0</th>\n",
       "      <td>윈도우11  아직은 ㅜㅜ</td>\n",
       "      <td>cowb****</td>\n",
       "      <td>\\n안녕하세요 저는   경기도화성시 에 살고있는  남자입니다 저는 평범한  사내 이...</td>\n",
       "    </tr>\n",
       "    <tr>\n",
       "      <th>1</th>\n",
       "      <td>윈도우1122 H2  출시 입박</td>\n",
       "      <td>cowb****</td>\n",
       "      <td>\\n안녕하세요   저  컴퓨터  윈도우 11  사용 중인데 저는 아직은 아닌 것  ...</td>\n",
       "    </tr>\n",
       "    <tr>\n",
       "      <th>2</th>\n",
       "      <td>[영화감상] 육사오 (6/45)</td>\n",
       "      <td>sakg****</td>\n",
       "      <td>\\n요즘 '블로그'를 잘 못하고 있습니다..이것도 3일만에 올린건데....이유는 바...</td>\n",
       "    </tr>\n",
       "    <tr>\n",
       "      <th>3</th>\n",
       "      <td>2022.10. 육사오</td>\n",
       "      <td>aesi****</td>\n",
       "      <td>\\n\\n\\n\\n\\n\\n\\n\\n\\n육사오(6/45)\\n\\n감독\\n박규태\\n출연\\n고경...</td>\n",
       "    </tr>\n",
       "    <tr>\n",
       "      <th>4</th>\n",
       "      <td>&lt;영화리뷰&gt;육사오(6/45)-2022.09.13.화</td>\n",
       "      <td>ree_****</td>\n",
       "      <td>\\n&lt;영화리뷰&gt;육사오(6/45)-2022.09.13.화요즘 나무는영화보기에 맛?들린...</td>\n",
       "    </tr>\n",
       "    <tr>\n",
       "      <th>...</th>\n",
       "      <td>...</td>\n",
       "      <td>...</td>\n",
       "      <td>...</td>\n",
       "    </tr>\n",
       "    <tr>\n",
       "      <th>75</th>\n",
       "      <td>2022년 10월 5일(水) / 박규태 감독의 《육사오(6/45)》</td>\n",
       "      <td>kimg****</td>\n",
       "      <td>\\n억지 웃음을 강요하는 영화, 잘 봤습니다. MBC의 〈출발! 비디오 여행〉, K...</td>\n",
       "    </tr>\n",
       "    <tr>\n",
       "      <th>76</th>\n",
       "      <td>[8.31~9.4 국내 박스오피스] 육사오, 돌풍의 힘을 보여주다</td>\n",
       "      <td>sch0****</td>\n",
       "      <td>\\n\\n\\n\\n육사오(6/45)\\n\\n감독\\n박규태\\n출연\\n고경표, 이이경, 음문...</td>\n",
       "    </tr>\n",
       "    <tr>\n",
       "      <th>77</th>\n",
       "      <td>한국 영화 육사오(6/45) 2022</td>\n",
       "      <td>park****</td>\n",
       "      <td>\\n 아오랜만에 생각없이 빵빵 웃었네 ㅋㅋㅋㅋ이런 영화좀 많이 만들어 줬으면 좋겠다...</td>\n",
       "    </tr>\n",
       "    <tr>\n",
       "      <th>78</th>\n",
       "      <td>아무 생각 없이 부담 없이 즐겁게 보는 재밌는 영화 &lt;육사오&gt;</td>\n",
       "      <td>bund****</td>\n",
       "      <td>\\n육사오(6/45) . 2022사실 로또'를 주제로 만들 수 있는 영화 소재들은 ...</td>\n",
       "    </tr>\n",
       "    <tr>\n",
       "      <th>79</th>\n",
       "      <td>'육사오' 손익분기점 160만 관객 돌파…장기 흥행 예고</td>\n",
       "      <td>bund****</td>\n",
       "      <td>\\n © 뉴스1  영화 '육사오(6/45)' 포스터(서울=뉴스1) 안태현 기자 = ...</td>\n",
       "    </tr>\n",
       "  </tbody>\n",
       "</table>\n",
       "<p>80 rows × 3 columns</p>\n",
       "</div>"
      ],
      "text/plain": [
       "                       육사오(6/45) : 네이버 영화      user  \\\n",
       "0                           윈도우11  아직은 ㅜㅜ  cowb****   \n",
       "1                       윈도우1122 H2  출시 입박  cowb****   \n",
       "2                       [영화감상] 육사오 (6/45)  sakg****   \n",
       "3                            2022.10. 육사오  aesi****   \n",
       "4            <영화리뷰>육사오(6/45)-2022.09.13.화  ree_****   \n",
       "..                                    ...       ...   \n",
       "75  2022년 10월 5일(水) / 박규태 감독의 《육사오(6/45)》  kimg****   \n",
       "76  [8.31~9.4 국내 박스오피스] 육사오, 돌풍의 힘을 보여주다   sch0****   \n",
       "77                   한국 영화 육사오(6/45) 2022  park****   \n",
       "78     아무 생각 없이 부담 없이 즐겁게 보는 재밌는 영화 <육사오>  bund****   \n",
       "79       '육사오' 손익분기점 160만 관객 돌파…장기 흥행 예고   bund****   \n",
       "\n",
       "                                               review  \n",
       "0   \\n안녕하세요 저는   경기도화성시 에 살고있는  남자입니다 저는 평범한  사내 이...  \n",
       "1   \\n안녕하세요   저  컴퓨터  윈도우 11  사용 중인데 저는 아직은 아닌 것  ...  \n",
       "2   \\n요즘 '블로그'를 잘 못하고 있습니다..이것도 3일만에 올린건데....이유는 바...  \n",
       "3   \\n\\n\\n\\n\\n\\n\\n\\n\\n육사오(6/45)\\n\\n감독\\n박규태\\n출연\\n고경...  \n",
       "4   \\n<영화리뷰>육사오(6/45)-2022.09.13.화요즘 나무는영화보기에 맛?들린...  \n",
       "..                                                ...  \n",
       "75  \\n억지 웃음을 강요하는 영화, 잘 봤습니다. MBC의 〈출발! 비디오 여행〉, K...  \n",
       "76  \\n\\n\\n\\n육사오(6/45)\\n\\n감독\\n박규태\\n출연\\n고경표, 이이경, 음문...  \n",
       "77  \\n 아오랜만에 생각없이 빵빵 웃었네 ㅋㅋㅋㅋ이런 영화좀 많이 만들어 줬으면 좋겠다...  \n",
       "78  \\n육사오(6/45) . 2022사실 로또'를 주제로 만들 수 있는 영화 소재들은 ...  \n",
       "79  \\n © 뉴스1  영화 '육사오(6/45)' 포스터(서울=뉴스1) 안태현 기자 = ...  \n",
       "\n",
       "[80 rows x 3 columns]"
      ]
     },
     "execution_count": 14,
     "metadata": {},
     "output_type": "execute_result"
    }
   ],
   "source": [
    "df_data"
   ]
  },
  {
   "cell_type": "code",
   "execution_count": 15,
   "id": "81a020df",
   "metadata": {},
   "outputs": [],
   "source": [
    "df_data.to_csv(\"naver_review.csv\")"
   ]
  }
 ],
 "metadata": {
  "kernelspec": {
   "display_name": "Python 3 (ipykernel)",
   "language": "python",
   "name": "python3"
  },
  "language_info": {
   "codemirror_mode": {
    "name": "ipython",
    "version": 3
   },
   "file_extension": ".py",
   "mimetype": "text/x-python",
   "name": "python",
   "nbconvert_exporter": "python",
   "pygments_lexer": "ipython3",
   "version": "3.9.12"
  }
 },
 "nbformat": 4,
 "nbformat_minor": 5
}
