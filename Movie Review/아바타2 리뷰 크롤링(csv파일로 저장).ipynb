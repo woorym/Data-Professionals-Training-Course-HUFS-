{
 "cells": [
  {
   "cell_type": "code",
   "execution_count": 1,
   "id": "facd49e6",
   "metadata": {},
   "outputs": [],
   "source": [
    "import pandas as pd\n",
    "import numpy as np\n",
    "import requests\n",
    "import matplotlib.pyplot as plt\n",
    "import seaborn as sns\n",
    "import time\n",
    "import re\n",
    "\n",
    "from bs4 import BeautifulSoup\n"
   ]
  },
  {
   "cell_type": "code",
   "execution_count": 2,
   "id": "acbc6052",
   "metadata": {},
   "outputs": [],
   "source": [
    "title_list = []\n",
    "uid_list = []\n",
    "url_list = []\n",
    "\n",
    "\n",
    "for i in range(1, 9):\n",
    "    url = f'https://movie.naver.com/movie/bi/mi/review.naver?code=74977&page={i}'\n",
    "    \n",
    "    resp = requests.get(url)\n",
    "    soup = BeautifulSoup(resp.text, 'html.parser')\n",
    "    \n",
    "    review_text_tag = soup.find(name = 'ul', attrs = {'class':'rvw_list_area'})\n",
    "    review_text_tags = review_text_tag.find_all('li')\n",
    "    \n",
    "    \n",
    "    for li_tag in review_text_tags:\n",
    "        review_title = li_tag.find_all('a')[0].get_text()\n",
    "        title_list.append(review_title)\n",
    "    \n",
    "        review_uid = li_tag.find_all('a')[1].get_text()\n",
    "        uid_list.append(review_uid)\n",
    "    \n",
    "        review_nid = re.findall('\\d{7}', li_tag.find('a').get('onclick'))[0]\n",
    "        review_url = f'https://movie.naver.com/movie/bi/mi/reviewread.naver?nid={review_nid}&code=74977&order=#tab'\n",
    "    \n",
    "        url_list.append(review_url)\n",
    "    \n",
    "        time.sleep(2)"
   ]
  },
  {
   "cell_type": "code",
   "execution_count": 3,
   "id": "ac110b4e",
   "metadata": {},
   "outputs": [
    {
     "name": "stdout",
     "output_type": "stream",
     "text": [
      "71\n"
     ]
    }
   ],
   "source": [
    "print(len(title_list))"
   ]
  },
  {
   "cell_type": "code",
   "execution_count": 4,
   "id": "101d591f",
   "metadata": {},
   "outputs": [],
   "source": [
    "text_list = []\n",
    "\n",
    "for url in url_list:\n",
    "\n",
    "    resp_text = requests.get(url, headers={'User-agent': 'agent'})\n",
    "    soup_text = BeautifulSoup(resp_text.text, 'html.parser')\n",
    "\n",
    "    review_text_tag = soup_text.find(name='div', attrs={'class':'user_tx_area'})\n",
    "\n",
    "    review_text = review_text_tag.get_text()\n",
    "    text_list.append(review_text)\n",
    "    \n",
    "    time.sleep(2)"
   ]
  },
  {
   "cell_type": "code",
   "execution_count": 5,
   "id": "8902b7f6",
   "metadata": {},
   "outputs": [],
   "source": [
    "title_tag = soup.find(name='title')\n",
    "\n",
    "title_text = title_tag.get_text()\n"
   ]
  },
  {
   "cell_type": "code",
   "execution_count": 6,
   "id": "922130b8",
   "metadata": {},
   "outputs": [],
   "source": [
    "dict_data = {\n",
    "    title_text : title_list,\n",
    "    'user' : uid_list,\n",
    "    'review' : text_list\n",
    "}\n",
    "\n",
    "df_data = pd.DataFrame(dict_data)"
   ]
  },
  {
   "cell_type": "code",
   "execution_count": 7,
   "id": "b3e0ee95",
   "metadata": {},
   "outputs": [
    {
     "data": {
      "text/html": [
       "<div>\n",
       "<style scoped>\n",
       "    .dataframe tbody tr th:only-of-type {\n",
       "        vertical-align: middle;\n",
       "    }\n",
       "\n",
       "    .dataframe tbody tr th {\n",
       "        vertical-align: top;\n",
       "    }\n",
       "\n",
       "    .dataframe thead th {\n",
       "        text-align: right;\n",
       "    }\n",
       "</style>\n",
       "<table border=\"1\" class=\"dataframe\">\n",
       "  <thead>\n",
       "    <tr style=\"text-align: right;\">\n",
       "      <th></th>\n",
       "      <th>아바타: 물의 길 : 네이버 영화</th>\n",
       "      <th>user</th>\n",
       "      <th>review</th>\n",
       "    </tr>\n",
       "  </thead>\n",
       "  <tbody>\n",
       "    <tr>\n",
       "      <th>0</th>\n",
       "      <td>&lt;아바타 2&gt; 주인공 \"네이티리\" 캐릭터 컨셉 아트 이미지 대공개...</td>\n",
       "      <td>insu****</td>\n",
       "      <td>\\n\\n\\n\\n\\n아바타 2\\n\\n감독\\n제임스 카메론\\n출연\\n시고니 위버, 스티...</td>\n",
       "    </tr>\n",
       "    <tr>\n",
       "      <th>1</th>\n",
       "      <td>2014년에 이글을 읽는사람들에게..</td>\n",
       "      <td>xnzm****</td>\n",
       "      <td>\\n2014년에 아바타2가 개봉하다니ㅋ\\n \\n아바타1,, 정말 재밌게 봤었는데\\n...</td>\n",
       "    </tr>\n",
       "    <tr>\n",
       "      <th>2</th>\n",
       "      <td>[필독, 스압] 위대한 지휘관, 쿼리치대령을 추모하며...</td>\n",
       "      <td>alwa****</td>\n",
       "      <td>\\n영화 아바타는.끝까지 우리 인류의 번영과 이익을 위해 사투를 벌이다 죽어간 위대...</td>\n",
       "    </tr>\n",
       "    <tr>\n",
       "      <th>3</th>\n",
       "      <td>아바타2 3,4 제작소식 모음</td>\n",
       "      <td>soqu****</td>\n",
       "      <td>\\n \\n \\n \\n&lt;&lt;  아바타 속편 제작소식 모음  &gt;&gt;\\n \\n\\n \\n \\n...</td>\n",
       "    </tr>\n",
       "    <tr>\n",
       "      <th>4</th>\n",
       "      <td>아바타2 스토리</td>\n",
       "      <td>doub****</td>\n",
       "      <td>\\n전작의 경우 cg는 혁명적이었지만제임스 카메론이 14년동안 구상한거 치곤 스토리...</td>\n",
       "    </tr>\n",
       "    <tr>\n",
       "      <th>...</th>\n",
       "      <td>...</td>\n",
       "      <td>...</td>\n",
       "      <td>...</td>\n",
       "    </tr>\n",
       "    <tr>\n",
       "      <th>66</th>\n",
       "      <td>제임스 카메론 감독, &lt;아바타 2&gt;의 촬영이 마무리되었음을 밝히다.</td>\n",
       "      <td>c106****</td>\n",
       "      <td>\\n     많은 분들의 기대(와 우려)를 한 몸에 받고 있는 &lt;아바타 2&gt;의 촬영...</td>\n",
       "    </tr>\n",
       "    <tr>\n",
       "      <th>67</th>\n",
       "      <td>제임스 카메론 감독, &lt;아바타 2&gt;에서 판도라 행성의 사실적인 수중 세계를 보게 될...</td>\n",
       "      <td>c106****</td>\n",
       "      <td>\\n     &lt;아바타&gt; 시퀄 제작에 열중하고 있는 제임스 카메론 감독이 &lt;아바타 2...</td>\n",
       "    </tr>\n",
       "    <tr>\n",
       "      <th>68</th>\n",
       "      <td>아바타 2 - 2020년 12월 개봉 소식 = 2020년 개봉예정영화</td>\n",
       "      <td>inee****</td>\n",
       "      <td>\\n아바타 2 (Avatar 2, 2020)\\n\\n아바타 2\\n\\n감독\\n제임스 카...</td>\n",
       "    </tr>\n",
       "    <tr>\n",
       "      <th>69</th>\n",
       "      <td>[BIFF]사회적 메시지 전하는 게 영화인이 할 일</td>\n",
       "      <td>thed****</td>\n",
       "      <td>\\n2009년 12월 개봉해 국내에서 1,333만 명의 관객을 동원한 영화 &lt;아바타...</td>\n",
       "    </tr>\n",
       "    <tr>\n",
       "      <th>70</th>\n",
       "      <td>&lt;아바타&gt; 시퀄, 올봄 뉴질랜드에서 라이브 액션 촬영 시작!!!</td>\n",
       "      <td>c106****</td>\n",
       "      <td>\\n     역대 월드와이드 최고 흥행 기록(※27억8,796만불)을 가지고 있는 ...</td>\n",
       "    </tr>\n",
       "  </tbody>\n",
       "</table>\n",
       "<p>71 rows × 3 columns</p>\n",
       "</div>"
      ],
      "text/plain": [
       "                                   아바타: 물의 길 : 네이버 영화      user  \\\n",
       "0            <아바타 2> 주인공 \"네이티리\" 캐릭터 컨셉 아트 이미지 대공개...   insu****   \n",
       "1                                2014년에 이글을 읽는사람들에게..  xnzm****   \n",
       "2                    [필독, 스압] 위대한 지휘관, 쿼리치대령을 추모하며...  alwa****   \n",
       "3                                    아바타2 3,4 제작소식 모음  soqu****   \n",
       "4                                            아바타2 스토리  doub****   \n",
       "..                                                ...       ...   \n",
       "66              제임스 카메론 감독, <아바타 2>의 촬영이 마무리되었음을 밝히다.  c106****   \n",
       "67  제임스 카메론 감독, <아바타 2>에서 판도라 행성의 사실적인 수중 세계를 보게 될...  c106****   \n",
       "68             아바타 2 - 2020년 12월 개봉 소식 = 2020년 개봉예정영화  inee****   \n",
       "69                       [BIFF]사회적 메시지 전하는 게 영화인이 할 일  thed****   \n",
       "70                <아바타> 시퀄, 올봄 뉴질랜드에서 라이브 액션 촬영 시작!!!  c106****   \n",
       "\n",
       "                                               review  \n",
       "0   \\n\\n\\n\\n\\n아바타 2\\n\\n감독\\n제임스 카메론\\n출연\\n시고니 위버, 스티...  \n",
       "1   \\n2014년에 아바타2가 개봉하다니ㅋ\\n \\n아바타1,, 정말 재밌게 봤었는데\\n...  \n",
       "2   \\n영화 아바타는.끝까지 우리 인류의 번영과 이익을 위해 사투를 벌이다 죽어간 위대...  \n",
       "3   \\n \\n \\n \\n<<  아바타 속편 제작소식 모음  >>\\n \\n\\n \\n \\n...  \n",
       "4   \\n전작의 경우 cg는 혁명적이었지만제임스 카메론이 14년동안 구상한거 치곤 스토리...  \n",
       "..                                                ...  \n",
       "66  \\n     많은 분들의 기대(와 우려)를 한 몸에 받고 있는 <아바타 2>의 촬영...  \n",
       "67  \\n     <아바타> 시퀄 제작에 열중하고 있는 제임스 카메론 감독이 <아바타 2...  \n",
       "68  \\n아바타 2 (Avatar 2, 2020)\\n\\n아바타 2\\n\\n감독\\n제임스 카...  \n",
       "69  \\n2009년 12월 개봉해 국내에서 1,333만 명의 관객을 동원한 영화 <아바타...  \n",
       "70  \\n     역대 월드와이드 최고 흥행 기록(※27억8,796만불)을 가지고 있는 ...  \n",
       "\n",
       "[71 rows x 3 columns]"
      ]
     },
     "execution_count": 7,
     "metadata": {},
     "output_type": "execute_result"
    }
   ],
   "source": [
    "df_data"
   ]
  },
  {
   "cell_type": "code",
   "execution_count": 8,
   "id": "81a020df",
   "metadata": {},
   "outputs": [],
   "source": [
    "df_data.to_csv(\"naver_review.csv\")"
   ]
  }
 ],
 "metadata": {
  "kernelspec": {
   "display_name": "Python 3 (ipykernel)",
   "language": "python",
   "name": "python3"
  },
  "language_info": {
   "codemirror_mode": {
    "name": "ipython",
    "version": 3
   },
   "file_extension": ".py",
   "mimetype": "text/x-python",
   "name": "python",
   "nbconvert_exporter": "python",
   "pygments_lexer": "ipython3",
   "version": "3.9.12"
  }
 },
 "nbformat": 4,
 "nbformat_minor": 5
}
