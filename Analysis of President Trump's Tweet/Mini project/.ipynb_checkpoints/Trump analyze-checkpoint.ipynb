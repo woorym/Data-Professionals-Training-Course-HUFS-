{
 "cells": [
  {
   "cell_type": "code",
   "execution_count": 9,
   "id": "4a6b85f8",
   "metadata": {},
   "outputs": [],
   "source": [
    "import pandas as pd\n",
    "\n",
    "df = pd.read_csv(\"C:/Users/User/DataScientist/Analysis of President Trump's Tweet/Mini project/trumptweets.csv\")\n",
    "\n"
   ]
  },
  {
   "cell_type": "code",
   "execution_count": 10,
   "id": "5d0d76f5",
   "metadata": {
    "scrolled": false
   },
   "outputs": [
    {
     "data": {
      "text/html": [
       "<div>\n",
       "<style scoped>\n",
       "    .dataframe tbody tr th:only-of-type {\n",
       "        vertical-align: middle;\n",
       "    }\n",
       "\n",
       "    .dataframe tbody tr th {\n",
       "        vertical-align: top;\n",
       "    }\n",
       "\n",
       "    .dataframe thead th {\n",
       "        text-align: right;\n",
       "    }\n",
       "</style>\n",
       "<table border=\"1\" class=\"dataframe\">\n",
       "  <thead>\n",
       "    <tr style=\"text-align: right;\">\n",
       "      <th></th>\n",
       "      <th>id</th>\n",
       "      <th>link</th>\n",
       "      <th>content</th>\n",
       "      <th>date</th>\n",
       "      <th>retweets</th>\n",
       "      <th>favorites</th>\n",
       "      <th>mentions</th>\n",
       "      <th>hashtags</th>\n",
       "      <th>geo</th>\n",
       "    </tr>\n",
       "  </thead>\n",
       "  <tbody>\n",
       "    <tr>\n",
       "      <th>0</th>\n",
       "      <td>1698308935</td>\n",
       "      <td>https://twitter.com/realDonaldTrump/status/169...</td>\n",
       "      <td>Be sure to tune in and watch Donald Trump on L...</td>\n",
       "      <td>2009-05-04 20:54:25</td>\n",
       "      <td>500</td>\n",
       "      <td>868</td>\n",
       "      <td>NaN</td>\n",
       "      <td>NaN</td>\n",
       "      <td>NaN</td>\n",
       "    </tr>\n",
       "    <tr>\n",
       "      <th>1</th>\n",
       "      <td>1701461182</td>\n",
       "      <td>https://twitter.com/realDonaldTrump/status/170...</td>\n",
       "      <td>Donald Trump will be appearing on The View tom...</td>\n",
       "      <td>2009-05-05 03:00:10</td>\n",
       "      <td>33</td>\n",
       "      <td>273</td>\n",
       "      <td>NaN</td>\n",
       "      <td>NaN</td>\n",
       "      <td>NaN</td>\n",
       "    </tr>\n",
       "    <tr>\n",
       "      <th>2</th>\n",
       "      <td>1737479987</td>\n",
       "      <td>https://twitter.com/realDonaldTrump/status/173...</td>\n",
       "      <td>Donald Trump reads Top Ten Financial Tips on L...</td>\n",
       "      <td>2009-05-08 15:38:08</td>\n",
       "      <td>12</td>\n",
       "      <td>18</td>\n",
       "      <td>NaN</td>\n",
       "      <td>NaN</td>\n",
       "      <td>NaN</td>\n",
       "    </tr>\n",
       "    <tr>\n",
       "      <th>3</th>\n",
       "      <td>1741160716</td>\n",
       "      <td>https://twitter.com/realDonaldTrump/status/174...</td>\n",
       "      <td>New Blog Post: Celebrity Apprentice Finale and...</td>\n",
       "      <td>2009-05-08 22:40:15</td>\n",
       "      <td>11</td>\n",
       "      <td>24</td>\n",
       "      <td>NaN</td>\n",
       "      <td>NaN</td>\n",
       "      <td>NaN</td>\n",
       "    </tr>\n",
       "    <tr>\n",
       "      <th>4</th>\n",
       "      <td>1773561338</td>\n",
       "      <td>https://twitter.com/realDonaldTrump/status/177...</td>\n",
       "      <td>\"My persona will never be that of a wallflower...</td>\n",
       "      <td>2009-05-12 16:07:28</td>\n",
       "      <td>1399</td>\n",
       "      <td>1965</td>\n",
       "      <td>NaN</td>\n",
       "      <td>NaN</td>\n",
       "      <td>NaN</td>\n",
       "    </tr>\n",
       "    <tr>\n",
       "      <th>...</th>\n",
       "      <td>...</td>\n",
       "      <td>...</td>\n",
       "      <td>...</td>\n",
       "      <td>...</td>\n",
       "      <td>...</td>\n",
       "      <td>...</td>\n",
       "      <td>...</td>\n",
       "      <td>...</td>\n",
       "      <td>...</td>\n",
       "    </tr>\n",
       "    <tr>\n",
       "      <th>41117</th>\n",
       "      <td>1218962544372670467</td>\n",
       "      <td>https://twitter.com/realDonaldTrump/status/121...</td>\n",
       "      <td>I have never seen the Republican Party as Stro...</td>\n",
       "      <td>2020-01-19 19:24:52</td>\n",
       "      <td>32620</td>\n",
       "      <td>213817</td>\n",
       "      <td>NaN</td>\n",
       "      <td>NaN</td>\n",
       "      <td>NaN</td>\n",
       "    </tr>\n",
       "    <tr>\n",
       "      <th>41118</th>\n",
       "      <td>1219004689716412416</td>\n",
       "      <td>https://twitter.com/realDonaldTrump/status/121...</td>\n",
       "      <td>Now Mini Mike Bloomberg is critical of Jack Wi...</td>\n",
       "      <td>2020-01-19 22:12:20</td>\n",
       "      <td>36239</td>\n",
       "      <td>149571</td>\n",
       "      <td>NaN</td>\n",
       "      <td>NaN</td>\n",
       "      <td>NaN</td>\n",
       "    </tr>\n",
       "    <tr>\n",
       "      <th>41119</th>\n",
       "      <td>1219053709428248576</td>\n",
       "      <td>https://twitter.com/realDonaldTrump/status/121...</td>\n",
       "      <td>I was thrilled to be back in the Great State o...</td>\n",
       "      <td>2020-01-20 01:27:07</td>\n",
       "      <td>16588</td>\n",
       "      <td>66944</td>\n",
       "      <td>NaN</td>\n",
       "      <td>#</td>\n",
       "      <td>NaN</td>\n",
       "    </tr>\n",
       "    <tr>\n",
       "      <th>41120</th>\n",
       "      <td>1219066007731310593</td>\n",
       "      <td>https://twitter.com/realDonaldTrump/status/121...</td>\n",
       "      <td>“In the House, the President got less due proc...</td>\n",
       "      <td>2020-01-20 02:16:00</td>\n",
       "      <td>20599</td>\n",
       "      <td>81921</td>\n",
       "      <td>@ @ @</td>\n",
       "      <td>NaN</td>\n",
       "      <td>NaN</td>\n",
       "    </tr>\n",
       "    <tr>\n",
       "      <th>41121</th>\n",
       "      <td>1219076533354037249</td>\n",
       "      <td>https://twitter.com/realDonaldTrump/status/121...</td>\n",
       "      <td>A great show! Check it out tonight at 9pm. @ F...</td>\n",
       "      <td>2020-01-20 02:57:49</td>\n",
       "      <td>7947</td>\n",
       "      <td>34902</td>\n",
       "      <td>@</td>\n",
       "      <td>NaN</td>\n",
       "      <td>NaN</td>\n",
       "    </tr>\n",
       "  </tbody>\n",
       "</table>\n",
       "<p>41122 rows × 9 columns</p>\n",
       "</div>"
      ],
      "text/plain": [
       "                        id                                               link  \\\n",
       "0               1698308935  https://twitter.com/realDonaldTrump/status/169...   \n",
       "1               1701461182  https://twitter.com/realDonaldTrump/status/170...   \n",
       "2               1737479987  https://twitter.com/realDonaldTrump/status/173...   \n",
       "3               1741160716  https://twitter.com/realDonaldTrump/status/174...   \n",
       "4               1773561338  https://twitter.com/realDonaldTrump/status/177...   \n",
       "...                    ...                                                ...   \n",
       "41117  1218962544372670467  https://twitter.com/realDonaldTrump/status/121...   \n",
       "41118  1219004689716412416  https://twitter.com/realDonaldTrump/status/121...   \n",
       "41119  1219053709428248576  https://twitter.com/realDonaldTrump/status/121...   \n",
       "41120  1219066007731310593  https://twitter.com/realDonaldTrump/status/121...   \n",
       "41121  1219076533354037249  https://twitter.com/realDonaldTrump/status/121...   \n",
       "\n",
       "                                                 content                 date  \\\n",
       "0      Be sure to tune in and watch Donald Trump on L...  2009-05-04 20:54:25   \n",
       "1      Donald Trump will be appearing on The View tom...  2009-05-05 03:00:10   \n",
       "2      Donald Trump reads Top Ten Financial Tips on L...  2009-05-08 15:38:08   \n",
       "3      New Blog Post: Celebrity Apprentice Finale and...  2009-05-08 22:40:15   \n",
       "4      \"My persona will never be that of a wallflower...  2009-05-12 16:07:28   \n",
       "...                                                  ...                  ...   \n",
       "41117  I have never seen the Republican Party as Stro...  2020-01-19 19:24:52   \n",
       "41118  Now Mini Mike Bloomberg is critical of Jack Wi...  2020-01-19 22:12:20   \n",
       "41119  I was thrilled to be back in the Great State o...  2020-01-20 01:27:07   \n",
       "41120  “In the House, the President got less due proc...  2020-01-20 02:16:00   \n",
       "41121  A great show! Check it out tonight at 9pm. @ F...  2020-01-20 02:57:49   \n",
       "\n",
       "       retweets  favorites mentions hashtags  geo  \n",
       "0           500        868      NaN      NaN  NaN  \n",
       "1            33        273      NaN      NaN  NaN  \n",
       "2            12         18      NaN      NaN  NaN  \n",
       "3            11         24      NaN      NaN  NaN  \n",
       "4          1399       1965      NaN      NaN  NaN  \n",
       "...         ...        ...      ...      ...  ...  \n",
       "41117     32620     213817      NaN      NaN  NaN  \n",
       "41118     36239     149571      NaN      NaN  NaN  \n",
       "41119     16588      66944      NaN        #  NaN  \n",
       "41120     20599      81921    @ @ @      NaN  NaN  \n",
       "41121      7947      34902        @      NaN  NaN  \n",
       "\n",
       "[41122 rows x 9 columns]"
      ]
     },
     "execution_count": 10,
     "metadata": {},
     "output_type": "execute_result"
    }
   ],
   "source": [
    "df"
   ]
  },
  {
   "cell_type": "markdown",
   "id": "fa41ffab",
   "metadata": {},
   "source": [
    "# df1 연간 트윗 게시글 수"
   ]
  },
  {
   "cell_type": "code",
   "execution_count": 11,
   "id": "aa0feb93",
   "metadata": {},
   "outputs": [],
   "source": [
    "df['year'] = df['date'].str[:4]\n",
    "\n",
    "year_report1 = df['year'].value_counts().sort_index()"
   ]
  },
  {
   "cell_type": "code",
   "execution_count": 12,
   "id": "0947de84",
   "metadata": {
    "scrolled": false
   },
   "outputs": [
    {
     "data": {
      "text/plain": [
       "<AxesSubplot:>"
      ]
     },
     "execution_count": 12,
     "metadata": {},
     "output_type": "execute_result"
    },
    {
     "data": {
      "image/png": "[encoded data removed]",
      "text/plain": [
       "<Figure size 432x288 with 1 Axes>"
      ]
     },
     "metadata": {
      "needs_background": "light"
     },
     "output_type": "display_data"
    }
   ],
   "source": [
    "year_report1.plot()"
   ]
  },
  {
   "cell_type": "markdown",
   "id": "6d673366",
   "metadata": {},
   "source": [
    "# 좋아요 수"
   ]
  },
  {
   "cell_type": "code",
   "execution_count": 13,
   "id": "59e257c9",
   "metadata": {},
   "outputs": [],
   "source": [
    "dic = {}\n",
    "sum = 0\n",
    "num = 0\n",
    "year = 2009\n",
    "for i in df['favorites']:\n",
    "    if int(df['year'][num]) == year:\n",
    "        sum += i\n",
    "        if num == 41121:\n",
    "            dic[year] = sum\n",
    "    else:\n",
    "        dic[year] = sum\n",
    "        sum = 0\n",
    "        year += 1\n",
    "    num += 1\n",
    "    "
   ]
  },
  {
   "cell_type": "code",
   "execution_count": 14,
   "id": "a68fceb2",
   "metadata": {},
   "outputs": [
    {
     "data": {
      "text/plain": [
       "<function matplotlib.pyplot.show(close=None, block=None)>"
      ]
     },
     "execution_count": 14,
     "metadata": {},
     "output_type": "execute_result"
    },
    {
     "data": {
      "image/png": "[encoded data removed]",
      "text/plain": [
       "<Figure size 432x288 with 1 Axes>"
      ]
     },
     "metadata": {
      "needs_background": "light"
     },
     "output_type": "display_data"
    }
   ],
   "source": [
    "import matplotlib.pyplot as plt\n",
    "\n",
    "myList = dic.items()\n",
    "x, y = zip(*myList)\n",
    "\n",
    "plt.plot(x, y)\n",
    "plt.show"
   ]
  },
  {
   "cell_type": "code",
   "execution_count": 15,
   "id": "b40fbc85",
   "metadata": {},
   "outputs": [
    {
     "data": {
      "text/plain": [
       "<AxesSubplot:>"
      ]
     },
     "execution_count": 15,
     "metadata": {},
     "output_type": "execute_result"
    },
    {
     "data": {
      "image/png": "[encoded data removed]",
      "text/plain": [
       "<Figure size 432x288 with 1 Axes>"
      ]
     },
     "metadata": {
      "needs_background": "light"
     },
     "output_type": "display_data"
    }
   ],
   "source": [
    "year_report1.plot()"
   ]
  }
 ],
 "metadata": {
  "kernelspec": {
   "display_name": "Python 3 (ipykernel)",
   "language": "python",
   "name": "python3"
  },
  "language_info": {
   "codemirror_mode": {
    "name": "ipython",
    "version": 3
   },
   "file_extension": ".py",
   "mimetype": "text/x-python",
   "name": "python",
   "nbconvert_exporter": "python",
   "pygments_lexer": "ipython3",
   "version": "3.9.12"
  }
 },
 "nbformat": 4,
 "nbformat_minor": 5
}
